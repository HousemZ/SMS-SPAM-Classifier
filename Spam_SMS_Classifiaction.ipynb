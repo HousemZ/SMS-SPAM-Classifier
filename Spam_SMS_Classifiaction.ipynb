{
 "cells": [
  {
   "cell_type": "markdown",
   "metadata": {},
   "source": [
    "<img src=\"spam.jpg\" width=\"700\" height=\"700\">"
   ]
  },
  {
   "cell_type": "code",
   "execution_count": 1,
   "metadata": {},
   "outputs": [],
   "source": [
    "import numpy as np\n",
    "import pandas as pd"
   ]
  },
  {
   "cell_type": "code",
   "execution_count": 2,
   "metadata": {},
   "outputs": [],
   "source": [
    "data = pd.read_csv(\"spam.csv\",encoding = 'ISO-8859-1')"
   ]
  },
  {
   "cell_type": "code",
   "execution_count": 3,
   "metadata": {},
   "outputs": [
    {
     "data": {
      "text/html": [
       "<div>\n",
       "<style scoped>\n",
       "    .dataframe tbody tr th:only-of-type {\n",
       "        vertical-align: middle;\n",
       "    }\n",
       "\n",
       "    .dataframe tbody tr th {\n",
       "        vertical-align: top;\n",
       "    }\n",
       "\n",
       "    .dataframe thead th {\n",
       "        text-align: right;\n",
       "    }\n",
       "</style>\n",
       "<table border=\"1\" class=\"dataframe\">\n",
       "  <thead>\n",
       "    <tr style=\"text-align: right;\">\n",
       "      <th></th>\n",
       "      <th>v1</th>\n",
       "      <th>v2</th>\n",
       "      <th>Unnamed: 2</th>\n",
       "      <th>Unnamed: 3</th>\n",
       "      <th>Unnamed: 4</th>\n",
       "    </tr>\n",
       "  </thead>\n",
       "  <tbody>\n",
       "    <tr>\n",
       "      <th>5263</th>\n",
       "      <td>ham</td>\n",
       "      <td>Pls speak with me. I wont ask anything other t...</td>\n",
       "      <td>NaN</td>\n",
       "      <td>NaN</td>\n",
       "      <td>NaN</td>\n",
       "    </tr>\n",
       "    <tr>\n",
       "      <th>428</th>\n",
       "      <td>ham</td>\n",
       "      <td>7 at esplanade.. Do Ì_ mind giving me a lift c...</td>\n",
       "      <td>NaN</td>\n",
       "      <td>NaN</td>\n",
       "      <td>NaN</td>\n",
       "    </tr>\n",
       "    <tr>\n",
       "      <th>4317</th>\n",
       "      <td>ham</td>\n",
       "      <td>S...i will take mokka players only:)</td>\n",
       "      <td>NaN</td>\n",
       "      <td>NaN</td>\n",
       "      <td>NaN</td>\n",
       "    </tr>\n",
       "    <tr>\n",
       "      <th>3967</th>\n",
       "      <td>ham</td>\n",
       "      <td>Did u turn on the heater? The heater was on an...</td>\n",
       "      <td>NaN</td>\n",
       "      <td>NaN</td>\n",
       "      <td>NaN</td>\n",
       "    </tr>\n",
       "    <tr>\n",
       "      <th>3917</th>\n",
       "      <td>ham</td>\n",
       "      <td>No need to ke qi... ÌÏ too bored izzit y sudde...</td>\n",
       "      <td>NaN</td>\n",
       "      <td>NaN</td>\n",
       "      <td>NaN</td>\n",
       "    </tr>\n",
       "    <tr>\n",
       "      <th>3977</th>\n",
       "      <td>ham</td>\n",
       "      <td>Reason is if the team budget is available at l...</td>\n",
       "      <td>NaN</td>\n",
       "      <td>NaN</td>\n",
       "      <td>NaN</td>\n",
       "    </tr>\n",
       "  </tbody>\n",
       "</table>\n",
       "</div>"
      ],
      "text/plain": [
       "       v1                                                 v2 Unnamed: 2  \\\n",
       "5263  ham  Pls speak with me. I wont ask anything other t...        NaN   \n",
       "428   ham  7 at esplanade.. Do Ì_ mind giving me a lift c...        NaN   \n",
       "4317  ham               S...i will take mokka players only:)        NaN   \n",
       "3967  ham  Did u turn on the heater? The heater was on an...        NaN   \n",
       "3917  ham  No need to ke qi... ÌÏ too bored izzit y sudde...        NaN   \n",
       "3977  ham  Reason is if the team budget is available at l...        NaN   \n",
       "\n",
       "     Unnamed: 3 Unnamed: 4  \n",
       "5263        NaN        NaN  \n",
       "428         NaN        NaN  \n",
       "4317        NaN        NaN  \n",
       "3967        NaN        NaN  \n",
       "3917        NaN        NaN  \n",
       "3977        NaN        NaN  "
      ]
     },
     "execution_count": 3,
     "metadata": {},
     "output_type": "execute_result"
    }
   ],
   "source": [
    "data.sample(6)"
   ]
  },
  {
   "cell_type": "markdown",
   "metadata": {},
   "source": [
    "# 1.Data cleaning"
   ]
  },
  {
   "cell_type": "code",
   "execution_count": 4,
   "metadata": {},
   "outputs": [
    {
     "name": "stdout",
     "output_type": "stream",
     "text": [
      "<class 'pandas.core.frame.DataFrame'>\n",
      "RangeIndex: 5572 entries, 0 to 5571\n",
      "Data columns (total 5 columns):\n",
      "v1            5572 non-null object\n",
      "v2            5572 non-null object\n",
      "Unnamed: 2    50 non-null object\n",
      "Unnamed: 3    12 non-null object\n",
      "Unnamed: 4    6 non-null object\n",
      "dtypes: object(5)\n",
      "memory usage: 217.7+ KB\n"
     ]
    }
   ],
   "source": [
    "data.info()"
   ]
  },
  {
   "cell_type": "code",
   "execution_count": 5,
   "metadata": {},
   "outputs": [
    {
     "data": {
      "text/html": [
       "<div>\n",
       "<style scoped>\n",
       "    .dataframe tbody tr th:only-of-type {\n",
       "        vertical-align: middle;\n",
       "    }\n",
       "\n",
       "    .dataframe tbody tr th {\n",
       "        vertical-align: top;\n",
       "    }\n",
       "\n",
       "    .dataframe thead th {\n",
       "        text-align: right;\n",
       "    }\n",
       "</style>\n",
       "<table border=\"1\" class=\"dataframe\">\n",
       "  <thead>\n",
       "    <tr style=\"text-align: right;\">\n",
       "      <th></th>\n",
       "      <th>v1</th>\n",
       "      <th>v2</th>\n",
       "      <th>Unnamed: 2</th>\n",
       "      <th>Unnamed: 3</th>\n",
       "      <th>Unnamed: 4</th>\n",
       "    </tr>\n",
       "  </thead>\n",
       "  <tbody>\n",
       "    <tr>\n",
       "      <th>95</th>\n",
       "      <td>spam</td>\n",
       "      <td>Your free ringtone is waiting to be collected....</td>\n",
       "      <td>PO Box 5249</td>\n",
       "      <td>MK17 92H. 450Ppw 16\"</td>\n",
       "      <td>NaN</td>\n",
       "    </tr>\n",
       "    <tr>\n",
       "      <th>281</th>\n",
       "      <td>ham</td>\n",
       "      <td>\\Wen u miss someone</td>\n",
       "      <td>the person is definitely special for u..... B...</td>\n",
       "      <td>why to miss them</td>\n",
       "      <td>just Keep-in-touch\\\" gdeve..\"</td>\n",
       "    </tr>\n",
       "    <tr>\n",
       "      <th>899</th>\n",
       "      <td>spam</td>\n",
       "      <td>Your free ringtone is waiting to be collected....</td>\n",
       "      <td>PO Box 5249</td>\n",
       "      <td>MK17 92H. 450Ppw 16\"</td>\n",
       "      <td>NaN</td>\n",
       "    </tr>\n",
       "    <tr>\n",
       "      <th>1038</th>\n",
       "      <td>ham</td>\n",
       "      <td>Edison has rightly said, \\A fool can ask more ...</td>\n",
       "      <td>GN</td>\n",
       "      <td>GE</td>\n",
       "      <td>GNT:-)\"</td>\n",
       "    </tr>\n",
       "    <tr>\n",
       "      <th>2170</th>\n",
       "      <td>ham</td>\n",
       "      <td>\\CAN I PLEASE COME UP NOW IMIN TOWN.DONTMATTER...</td>\n",
       "      <td>JUST REALLYNEED 2DOCD.PLEASE DONTPLEASE DONTIG...</td>\n",
       "      <td>U NO THECD ISV.IMPORTANT TOME 4 2MORO\\\"\"</td>\n",
       "      <td>NaN</td>\n",
       "    </tr>\n",
       "    <tr>\n",
       "      <th>2255</th>\n",
       "      <td>ham</td>\n",
       "      <td>I just lov this line: \\Hurt me with the truth</td>\n",
       "      <td>I don't mind</td>\n",
       "      <td>i wil tolerat.bcs ur my someone..... But</td>\n",
       "      <td>Never comfort me with a lie\\\" gud ni8 and swe...</td>\n",
       "    </tr>\n",
       "    <tr>\n",
       "      <th>3145</th>\n",
       "      <td>ham</td>\n",
       "      <td>\\SHIT BABE.. THASA BIT MESSED UP.YEH</td>\n",
       "      <td>SHE SHUDVETOLD U. DID URGRAN KNOW?NEWAY</td>\n",
       "      <td>ILLSPEAK 2 U2MORO WEN IM NOT ASLEEP...\\\"\"</td>\n",
       "      <td>NaN</td>\n",
       "    </tr>\n",
       "    <tr>\n",
       "      <th>3506</th>\n",
       "      <td>ham</td>\n",
       "      <td>Two fundamentals of cool life: \\Walk</td>\n",
       "      <td>like you are the KING\\\"...! OR \\\"Walk like yo...</td>\n",
       "      <td>whoever is the KING\\\"!... Gud nyt\"</td>\n",
       "      <td>NaN</td>\n",
       "    </tr>\n",
       "    <tr>\n",
       "      <th>3525</th>\n",
       "      <td>ham</td>\n",
       "      <td>\\HEY BABE! FAR 2 SPUN-OUT 2 SPK AT DA MO... DE...</td>\n",
       "      <td>HAD A COOL NYTHO</td>\n",
       "      <td>TX 4 FONIN HON</td>\n",
       "      <td>CALL 2MWEN IM BK FRMCLOUD 9! J X\\\"\"</td>\n",
       "    </tr>\n",
       "    <tr>\n",
       "      <th>4668</th>\n",
       "      <td>ham</td>\n",
       "      <td>When I was born, GOD said, \\Oh No! Another IDI...</td>\n",
       "      <td>GOD said</td>\n",
       "      <td>\\\"OH No! COMPETITION\\\". Who knew</td>\n",
       "      <td>one day these two will become FREINDS FOREVER!\"</td>\n",
       "    </tr>\n",
       "    <tr>\n",
       "      <th>5048</th>\n",
       "      <td>ham</td>\n",
       "      <td>Edison has rightly said, \\A fool can ask more ...</td>\n",
       "      <td>GN</td>\n",
       "      <td>GE</td>\n",
       "      <td>GNT:-)\"</td>\n",
       "    </tr>\n",
       "    <tr>\n",
       "      <th>5081</th>\n",
       "      <td>ham</td>\n",
       "      <td>\\HI BABE UAWAKE?FEELLIKW SHIT.JUSTFOUND OUT VI...</td>\n",
       "      <td>DEVIOUSBITCH.ANYWAY</td>\n",
       "      <td>IåÕL CALL U\\\"\"</td>\n",
       "      <td>NaN</td>\n",
       "    </tr>\n",
       "  </tbody>\n",
       "</table>\n",
       "</div>"
      ],
      "text/plain": [
       "        v1                                                 v2  \\\n",
       "95    spam  Your free ringtone is waiting to be collected....   \n",
       "281    ham                                \\Wen u miss someone   \n",
       "899   spam  Your free ringtone is waiting to be collected....   \n",
       "1038   ham  Edison has rightly said, \\A fool can ask more ...   \n",
       "2170   ham  \\CAN I PLEASE COME UP NOW IMIN TOWN.DONTMATTER...   \n",
       "2255   ham      I just lov this line: \\Hurt me with the truth   \n",
       "3145   ham               \\SHIT BABE.. THASA BIT MESSED UP.YEH   \n",
       "3506   ham               Two fundamentals of cool life: \\Walk   \n",
       "3525   ham  \\HEY BABE! FAR 2 SPUN-OUT 2 SPK AT DA MO... DE...   \n",
       "4668   ham  When I was born, GOD said, \\Oh No! Another IDI...   \n",
       "5048   ham  Edison has rightly said, \\A fool can ask more ...   \n",
       "5081   ham  \\HI BABE UAWAKE?FEELLIKW SHIT.JUSTFOUND OUT VI...   \n",
       "\n",
       "                                             Unnamed: 2  \\\n",
       "95                                          PO Box 5249   \n",
       "281    the person is definitely special for u..... B...   \n",
       "899                                         PO Box 5249   \n",
       "1038                                                 GN   \n",
       "2170  JUST REALLYNEED 2DOCD.PLEASE DONTPLEASE DONTIG...   \n",
       "2255                                       I don't mind   \n",
       "3145            SHE SHUDVETOLD U. DID URGRAN KNOW?NEWAY   \n",
       "3506   like you are the KING\\\"...! OR \\\"Walk like yo...   \n",
       "3525                                   HAD A COOL NYTHO   \n",
       "4668                                           GOD said   \n",
       "5048                                                 GN   \n",
       "5081                                DEVIOUSBITCH.ANYWAY   \n",
       "\n",
       "                                      Unnamed: 3  \\\n",
       "95                          MK17 92H. 450Ppw 16\"   \n",
       "281                             why to miss them   \n",
       "899                         MK17 92H. 450Ppw 16\"   \n",
       "1038                                          GE   \n",
       "2170    U NO THECD ISV.IMPORTANT TOME 4 2MORO\\\"\"   \n",
       "2255    i wil tolerat.bcs ur my someone..... But   \n",
       "3145   ILLSPEAK 2 U2MORO WEN IM NOT ASLEEP...\\\"\"   \n",
       "3506          whoever is the KING\\\"!... Gud nyt\"   \n",
       "3525                              TX 4 FONIN HON   \n",
       "4668            \\\"OH No! COMPETITION\\\". Who knew   \n",
       "5048                                          GE   \n",
       "5081                              IåÕL CALL U\\\"\"   \n",
       "\n",
       "                                             Unnamed: 4  \n",
       "95                                                  NaN  \n",
       "281                       just Keep-in-touch\\\" gdeve..\"  \n",
       "899                                                 NaN  \n",
       "1038                                            GNT:-)\"  \n",
       "2170                                                NaN  \n",
       "2255   Never comfort me with a lie\\\" gud ni8 and swe...  \n",
       "3145                                                NaN  \n",
       "3506                                                NaN  \n",
       "3525                CALL 2MWEN IM BK FRMCLOUD 9! J X\\\"\"  \n",
       "4668    one day these two will become FREINDS FOREVER!\"  \n",
       "5048                                            GNT:-)\"  \n",
       "5081                                                NaN  "
      ]
     },
     "execution_count": 5,
     "metadata": {},
     "output_type": "execute_result"
    }
   ],
   "source": [
    "data.loc[data[\"Unnamed: 3\"].notnull(),:]"
   ]
  },
  {
   "cell_type": "code",
   "execution_count": 6,
   "metadata": {},
   "outputs": [
    {
     "data": {
      "text/html": [
       "<div>\n",
       "<style scoped>\n",
       "    .dataframe tbody tr th:only-of-type {\n",
       "        vertical-align: middle;\n",
       "    }\n",
       "\n",
       "    .dataframe tbody tr th {\n",
       "        vertical-align: top;\n",
       "    }\n",
       "\n",
       "    .dataframe thead th {\n",
       "        text-align: right;\n",
       "    }\n",
       "</style>\n",
       "<table border=\"1\" class=\"dataframe\">\n",
       "  <thead>\n",
       "    <tr style=\"text-align: right;\">\n",
       "      <th></th>\n",
       "      <th>v1</th>\n",
       "      <th>v2</th>\n",
       "    </tr>\n",
       "  </thead>\n",
       "  <tbody>\n",
       "    <tr>\n",
       "      <th>0</th>\n",
       "      <td>ham</td>\n",
       "      <td>Go until jurong point, crazy.. Available only ...</td>\n",
       "    </tr>\n",
       "    <tr>\n",
       "      <th>1</th>\n",
       "      <td>ham</td>\n",
       "      <td>Ok lar... Joking wif u oni...</td>\n",
       "    </tr>\n",
       "    <tr>\n",
       "      <th>2</th>\n",
       "      <td>spam</td>\n",
       "      <td>Free entry in 2 a wkly comp to win FA Cup fina...</td>\n",
       "    </tr>\n",
       "    <tr>\n",
       "      <th>3</th>\n",
       "      <td>ham</td>\n",
       "      <td>U dun say so early hor... U c already then say...</td>\n",
       "    </tr>\n",
       "    <tr>\n",
       "      <th>4</th>\n",
       "      <td>ham</td>\n",
       "      <td>Nah I don't think he goes to usf, he lives aro...</td>\n",
       "    </tr>\n",
       "  </tbody>\n",
       "</table>\n",
       "</div>"
      ],
      "text/plain": [
       "     v1                                                 v2\n",
       "0   ham  Go until jurong point, crazy.. Available only ...\n",
       "1   ham                      Ok lar... Joking wif u oni...\n",
       "2  spam  Free entry in 2 a wkly comp to win FA Cup fina...\n",
       "3   ham  U dun say so early hor... U c already then say...\n",
       "4   ham  Nah I don't think he goes to usf, he lives aro..."
      ]
     },
     "execution_count": 6,
     "metadata": {},
     "output_type": "execute_result"
    }
   ],
   "source": [
    "#drop last 3 columns\n",
    "data = data.drop(columns=[\"Unnamed: 2\", \"Unnamed: 3\", \"Unnamed: 4\"], axis=1)\n",
    "data.head()"
   ]
  },
  {
   "cell_type": "code",
   "execution_count": 7,
   "metadata": {},
   "outputs": [],
   "source": [
    "data = data.rename(columns={\"v1\":\"type\", \"v2\":\"msg\"})"
   ]
  },
  {
   "cell_type": "code",
   "execution_count": 8,
   "metadata": {},
   "outputs": [
    {
     "data": {
      "text/html": [
       "<div>\n",
       "<style scoped>\n",
       "    .dataframe tbody tr th:only-of-type {\n",
       "        vertical-align: middle;\n",
       "    }\n",
       "\n",
       "    .dataframe tbody tr th {\n",
       "        vertical-align: top;\n",
       "    }\n",
       "\n",
       "    .dataframe thead th {\n",
       "        text-align: right;\n",
       "    }\n",
       "</style>\n",
       "<table border=\"1\" class=\"dataframe\">\n",
       "  <thead>\n",
       "    <tr style=\"text-align: right;\">\n",
       "      <th></th>\n",
       "      <th>type</th>\n",
       "      <th>msg</th>\n",
       "    </tr>\n",
       "  </thead>\n",
       "  <tbody>\n",
       "    <tr>\n",
       "      <th>1926</th>\n",
       "      <td>ham</td>\n",
       "      <td>Dont give a monkeys wot they think and i certa...</td>\n",
       "    </tr>\n",
       "    <tr>\n",
       "      <th>4853</th>\n",
       "      <td>ham</td>\n",
       "      <td>Also north carolina and texas atm, you would j...</td>\n",
       "    </tr>\n",
       "    <tr>\n",
       "      <th>1777</th>\n",
       "      <td>spam</td>\n",
       "      <td>Buy Space Invaders 4 a chance 2 win orig Arcad...</td>\n",
       "    </tr>\n",
       "    <tr>\n",
       "      <th>3275</th>\n",
       "      <td>ham</td>\n",
       "      <td>Lol your right. What diet? Everyday I cheat an...</td>\n",
       "    </tr>\n",
       "    <tr>\n",
       "      <th>325</th>\n",
       "      <td>ham</td>\n",
       "      <td>No calls..messages..missed calls</td>\n",
       "    </tr>\n",
       "  </tbody>\n",
       "</table>\n",
       "</div>"
      ],
      "text/plain": [
       "      type                                                msg\n",
       "1926   ham  Dont give a monkeys wot they think and i certa...\n",
       "4853   ham  Also north carolina and texas atm, you would j...\n",
       "1777  spam  Buy Space Invaders 4 a chance 2 win orig Arcad...\n",
       "3275   ham  Lol your right. What diet? Everyday I cheat an...\n",
       "325    ham                   No calls..messages..missed calls"
      ]
     },
     "execution_count": 8,
     "metadata": {},
     "output_type": "execute_result"
    }
   ],
   "source": [
    "data.sample(5)"
   ]
  },
  {
   "cell_type": "code",
   "execution_count": 9,
   "metadata": {},
   "outputs": [],
   "source": [
    "from sklearn.preprocessing import LabelEncoder\n",
    "le = LabelEncoder()\n",
    "data[\"type\"] = le.fit_transform(data[\"type\"])"
   ]
  },
  {
   "cell_type": "code",
   "execution_count": 10,
   "metadata": {},
   "outputs": [
    {
     "data": {
      "text/html": [
       "<div>\n",
       "<style scoped>\n",
       "    .dataframe tbody tr th:only-of-type {\n",
       "        vertical-align: middle;\n",
       "    }\n",
       "\n",
       "    .dataframe tbody tr th {\n",
       "        vertical-align: top;\n",
       "    }\n",
       "\n",
       "    .dataframe thead th {\n",
       "        text-align: right;\n",
       "    }\n",
       "</style>\n",
       "<table border=\"1\" class=\"dataframe\">\n",
       "  <thead>\n",
       "    <tr style=\"text-align: right;\">\n",
       "      <th></th>\n",
       "      <th>type</th>\n",
       "      <th>msg</th>\n",
       "    </tr>\n",
       "  </thead>\n",
       "  <tbody>\n",
       "    <tr>\n",
       "      <th>0</th>\n",
       "      <td>0</td>\n",
       "      <td>Go until jurong point, crazy.. Available only ...</td>\n",
       "    </tr>\n",
       "    <tr>\n",
       "      <th>1</th>\n",
       "      <td>0</td>\n",
       "      <td>Ok lar... Joking wif u oni...</td>\n",
       "    </tr>\n",
       "    <tr>\n",
       "      <th>2</th>\n",
       "      <td>1</td>\n",
       "      <td>Free entry in 2 a wkly comp to win FA Cup fina...</td>\n",
       "    </tr>\n",
       "    <tr>\n",
       "      <th>3</th>\n",
       "      <td>0</td>\n",
       "      <td>U dun say so early hor... U c already then say...</td>\n",
       "    </tr>\n",
       "    <tr>\n",
       "      <th>4</th>\n",
       "      <td>0</td>\n",
       "      <td>Nah I don't think he goes to usf, he lives aro...</td>\n",
       "    </tr>\n",
       "  </tbody>\n",
       "</table>\n",
       "</div>"
      ],
      "text/plain": [
       "   type                                                msg\n",
       "0     0  Go until jurong point, crazy.. Available only ...\n",
       "1     0                      Ok lar... Joking wif u oni...\n",
       "2     1  Free entry in 2 a wkly comp to win FA Cup fina...\n",
       "3     0  U dun say so early hor... U c already then say...\n",
       "4     0  Nah I don't think he goes to usf, he lives aro..."
      ]
     },
     "execution_count": 10,
     "metadata": {},
     "output_type": "execute_result"
    }
   ],
   "source": [
    "data.head(5)"
   ]
  },
  {
   "cell_type": "code",
   "execution_count": 11,
   "metadata": {},
   "outputs": [
    {
     "data": {
      "text/plain": [
       "type    0\n",
       "msg     0\n",
       "dtype: int64"
      ]
     },
     "execution_count": 11,
     "metadata": {},
     "output_type": "execute_result"
    }
   ],
   "source": [
    "# Missing values\n",
    "data.isnull().sum()"
   ]
  },
  {
   "cell_type": "code",
   "execution_count": 12,
   "metadata": {},
   "outputs": [
    {
     "data": {
      "text/plain": [
       "403"
      ]
     },
     "execution_count": 12,
     "metadata": {},
     "output_type": "execute_result"
    }
   ],
   "source": [
    "# Duplicate values\n",
    "data.duplicated().sum()"
   ]
  },
  {
   "cell_type": "code",
   "execution_count": 13,
   "metadata": {},
   "outputs": [
    {
     "data": {
      "text/html": [
       "<div>\n",
       "<style scoped>\n",
       "    .dataframe tbody tr th:only-of-type {\n",
       "        vertical-align: middle;\n",
       "    }\n",
       "\n",
       "    .dataframe tbody tr th {\n",
       "        vertical-align: top;\n",
       "    }\n",
       "\n",
       "    .dataframe thead th {\n",
       "        text-align: right;\n",
       "    }\n",
       "</style>\n",
       "<table border=\"1\" class=\"dataframe\">\n",
       "  <thead>\n",
       "    <tr style=\"text-align: right;\">\n",
       "      <th></th>\n",
       "      <th>type</th>\n",
       "      <th>msg</th>\n",
       "    </tr>\n",
       "  </thead>\n",
       "  <tbody>\n",
       "    <tr>\n",
       "      <th>102</th>\n",
       "      <td>0</td>\n",
       "      <td>As per your request 'Melle Melle (Oru Minnamin...</td>\n",
       "    </tr>\n",
       "    <tr>\n",
       "      <th>153</th>\n",
       "      <td>0</td>\n",
       "      <td>As per your request 'Melle Melle (Oru Minnamin...</td>\n",
       "    </tr>\n",
       "    <tr>\n",
       "      <th>206</th>\n",
       "      <td>0</td>\n",
       "      <td>As I entered my cabin my PA said, '' Happy B'd...</td>\n",
       "    </tr>\n",
       "    <tr>\n",
       "      <th>222</th>\n",
       "      <td>0</td>\n",
       "      <td>Sorry, I'll call later</td>\n",
       "    </tr>\n",
       "    <tr>\n",
       "      <th>325</th>\n",
       "      <td>0</td>\n",
       "      <td>No calls..messages..missed calls</td>\n",
       "    </tr>\n",
       "  </tbody>\n",
       "</table>\n",
       "</div>"
      ],
      "text/plain": [
       "     type                                                msg\n",
       "102     0  As per your request 'Melle Melle (Oru Minnamin...\n",
       "153     0  As per your request 'Melle Melle (Oru Minnamin...\n",
       "206     0  As I entered my cabin my PA said, '' Happy B'd...\n",
       "222     0                             Sorry, I'll call later\n",
       "325     0                   No calls..messages..missed calls"
      ]
     },
     "execution_count": 13,
     "metadata": {},
     "output_type": "execute_result"
    }
   ],
   "source": [
    "data[data.duplicated()==True].head(5)"
   ]
  },
  {
   "cell_type": "code",
   "execution_count": 14,
   "metadata": {},
   "outputs": [],
   "source": [
    "data = data.drop_duplicates(keep='first')"
   ]
  },
  {
   "cell_type": "code",
   "execution_count": 15,
   "metadata": {},
   "outputs": [
    {
     "data": {
      "text/plain": [
       "0"
      ]
     },
     "execution_count": 15,
     "metadata": {},
     "output_type": "execute_result"
    }
   ],
   "source": [
    "data.duplicated().sum()"
   ]
  },
  {
   "cell_type": "code",
   "execution_count": 16,
   "metadata": {},
   "outputs": [
    {
     "data": {
      "text/plain": [
       "(5169, 2)"
      ]
     },
     "execution_count": 16,
     "metadata": {},
     "output_type": "execute_result"
    }
   ],
   "source": [
    "data.shape"
   ]
  },
  {
   "cell_type": "markdown",
   "metadata": {},
   "source": [
    "# 2. EDA"
   ]
  },
  {
   "cell_type": "code",
   "execution_count": 17,
   "metadata": {},
   "outputs": [
    {
     "data": {
      "text/plain": [
       "0    4516\n",
       "1     653\n",
       "Name: type, dtype: int64"
      ]
     },
     "execution_count": 17,
     "metadata": {},
     "output_type": "execute_result"
    }
   ],
   "source": [
    "data[\"type\"].value_counts()"
   ]
  },
  {
   "cell_type": "code",
   "execution_count": 18,
   "metadata": {},
   "outputs": [],
   "source": [
    "import matplotlib.pyplot as plt"
   ]
  },
  {
   "cell_type": "code",
   "execution_count": 19,
   "metadata": {},
   "outputs": [
    {
     "data": {
      "text/plain": [
       "<matplotlib.legend.Legend at 0x2282dbe1c18>"
      ]
     },
     "execution_count": 19,
     "metadata": {},
     "output_type": "execute_result"
    },
    {
     "data": {
      "image/png": "[encoded data removed]",
      "text/plain": [
       "<Figure size 360x504 with 1 Axes>"
      ]
     },
     "metadata": {},
     "output_type": "display_data"
    }
   ],
   "source": [
    "plt.figure(figsize=(5,7))\n",
    "data[\"type\"].value_counts().plot.pie(labels = [\"Non spam\", \"Spam\"], autopct = '%.2f%%')\n",
    "plt.legend()"
   ]
  },
  {
   "cell_type": "code",
   "execution_count": 20,
   "metadata": {},
   "outputs": [],
   "source": [
    "import nltk"
   ]
  },
  {
   "cell_type": "code",
   "execution_count": 21,
   "metadata": {},
   "outputs": [
    {
     "name": "stderr",
     "output_type": "stream",
     "text": [
      "[nltk_data] Downloading package punkt to\n",
      "[nltk_data]     C:\\Users\\dell\\AppData\\Roaming\\nltk_data...\n",
      "[nltk_data]   Package punkt is already up-to-date!\n"
     ]
    },
    {
     "data": {
      "text/plain": [
       "True"
      ]
     },
     "execution_count": 21,
     "metadata": {},
     "output_type": "execute_result"
    }
   ],
   "source": [
    "nltk.download(\"punkt\")"
   ]
  },
  {
   "cell_type": "code",
   "execution_count": 22,
   "metadata": {},
   "outputs": [
    {
     "data": {
      "text/html": [
       "<div>\n",
       "<style scoped>\n",
       "    .dataframe tbody tr th:only-of-type {\n",
       "        vertical-align: middle;\n",
       "    }\n",
       "\n",
       "    .dataframe tbody tr th {\n",
       "        vertical-align: top;\n",
       "    }\n",
       "\n",
       "    .dataframe thead th {\n",
       "        text-align: right;\n",
       "    }\n",
       "</style>\n",
       "<table border=\"1\" class=\"dataframe\">\n",
       "  <thead>\n",
       "    <tr style=\"text-align: right;\">\n",
       "      <th></th>\n",
       "      <th>type</th>\n",
       "      <th>msg</th>\n",
       "      <th>nb_carac</th>\n",
       "    </tr>\n",
       "  </thead>\n",
       "  <tbody>\n",
       "    <tr>\n",
       "      <th>0</th>\n",
       "      <td>0</td>\n",
       "      <td>Go until jurong point, crazy.. Available only ...</td>\n",
       "      <td>111</td>\n",
       "    </tr>\n",
       "    <tr>\n",
       "      <th>1</th>\n",
       "      <td>0</td>\n",
       "      <td>Ok lar... Joking wif u oni...</td>\n",
       "      <td>29</td>\n",
       "    </tr>\n",
       "    <tr>\n",
       "      <th>2</th>\n",
       "      <td>1</td>\n",
       "      <td>Free entry in 2 a wkly comp to win FA Cup fina...</td>\n",
       "      <td>155</td>\n",
       "    </tr>\n",
       "    <tr>\n",
       "      <th>3</th>\n",
       "      <td>0</td>\n",
       "      <td>U dun say so early hor... U c already then say...</td>\n",
       "      <td>49</td>\n",
       "    </tr>\n",
       "    <tr>\n",
       "      <th>4</th>\n",
       "      <td>0</td>\n",
       "      <td>Nah I don't think he goes to usf, he lives aro...</td>\n",
       "      <td>61</td>\n",
       "    </tr>\n",
       "  </tbody>\n",
       "</table>\n",
       "</div>"
      ],
      "text/plain": [
       "   type                                                msg  nb_carac\n",
       "0     0  Go until jurong point, crazy.. Available only ...       111\n",
       "1     0                      Ok lar... Joking wif u oni...        29\n",
       "2     1  Free entry in 2 a wkly comp to win FA Cup fina...       155\n",
       "3     0  U dun say so early hor... U c already then say...        49\n",
       "4     0  Nah I don't think he goes to usf, he lives aro...        61"
      ]
     },
     "execution_count": 22,
     "metadata": {},
     "output_type": "execute_result"
    }
   ],
   "source": [
    "data[\"nb_carac\"] = data[\"msg\"].apply(len)\n",
    "data.head()"
   ]
  },
  {
   "cell_type": "code",
   "execution_count": 23,
   "metadata": {},
   "outputs": [
    {
     "data": {
      "text/html": [
       "<div>\n",
       "<style scoped>\n",
       "    .dataframe tbody tr th:only-of-type {\n",
       "        vertical-align: middle;\n",
       "    }\n",
       "\n",
       "    .dataframe tbody tr th {\n",
       "        vertical-align: top;\n",
       "    }\n",
       "\n",
       "    .dataframe thead th {\n",
       "        text-align: right;\n",
       "    }\n",
       "</style>\n",
       "<table border=\"1\" class=\"dataframe\">\n",
       "  <thead>\n",
       "    <tr style=\"text-align: right;\">\n",
       "      <th></th>\n",
       "      <th>type</th>\n",
       "      <th>msg</th>\n",
       "      <th>nb_carac</th>\n",
       "      <th>nb_word</th>\n",
       "    </tr>\n",
       "  </thead>\n",
       "  <tbody>\n",
       "    <tr>\n",
       "      <th>0</th>\n",
       "      <td>0</td>\n",
       "      <td>Go until jurong point, crazy.. Available only ...</td>\n",
       "      <td>111</td>\n",
       "      <td>23</td>\n",
       "    </tr>\n",
       "    <tr>\n",
       "      <th>1</th>\n",
       "      <td>0</td>\n",
       "      <td>Ok lar... Joking wif u oni...</td>\n",
       "      <td>29</td>\n",
       "      <td>8</td>\n",
       "    </tr>\n",
       "    <tr>\n",
       "      <th>2</th>\n",
       "      <td>1</td>\n",
       "      <td>Free entry in 2 a wkly comp to win FA Cup fina...</td>\n",
       "      <td>155</td>\n",
       "      <td>37</td>\n",
       "    </tr>\n",
       "    <tr>\n",
       "      <th>3</th>\n",
       "      <td>0</td>\n",
       "      <td>U dun say so early hor... U c already then say...</td>\n",
       "      <td>49</td>\n",
       "      <td>13</td>\n",
       "    </tr>\n",
       "    <tr>\n",
       "      <th>4</th>\n",
       "      <td>0</td>\n",
       "      <td>Nah I don't think he goes to usf, he lives aro...</td>\n",
       "      <td>61</td>\n",
       "      <td>15</td>\n",
       "    </tr>\n",
       "  </tbody>\n",
       "</table>\n",
       "</div>"
      ],
      "text/plain": [
       "   type                                                msg  nb_carac  nb_word\n",
       "0     0  Go until jurong point, crazy.. Available only ...       111       23\n",
       "1     0                      Ok lar... Joking wif u oni...        29        8\n",
       "2     1  Free entry in 2 a wkly comp to win FA Cup fina...       155       37\n",
       "3     0  U dun say so early hor... U c already then say...        49       13\n",
       "4     0  Nah I don't think he goes to usf, he lives aro...        61       15"
      ]
     },
     "execution_count": 23,
     "metadata": {},
     "output_type": "execute_result"
    }
   ],
   "source": [
    "data[\"nb_word\"] = data[\"msg\"].apply(lambda x:len(nltk.tokenize.word_tokenize(x)))\n",
    "data.head()"
   ]
  },
  {
   "cell_type": "code",
   "execution_count": 24,
   "metadata": {},
   "outputs": [
    {
     "data": {
      "text/html": [
       "<div>\n",
       "<style scoped>\n",
       "    .dataframe tbody tr th:only-of-type {\n",
       "        vertical-align: middle;\n",
       "    }\n",
       "\n",
       "    .dataframe tbody tr th {\n",
       "        vertical-align: top;\n",
       "    }\n",
       "\n",
       "    .dataframe thead th {\n",
       "        text-align: right;\n",
       "    }\n",
       "</style>\n",
       "<table border=\"1\" class=\"dataframe\">\n",
       "  <thead>\n",
       "    <tr style=\"text-align: right;\">\n",
       "      <th></th>\n",
       "      <th>type</th>\n",
       "      <th>msg</th>\n",
       "      <th>nb_carac</th>\n",
       "      <th>nb_word</th>\n",
       "      <th>nb_sent</th>\n",
       "    </tr>\n",
       "  </thead>\n",
       "  <tbody>\n",
       "    <tr>\n",
       "      <th>0</th>\n",
       "      <td>0</td>\n",
       "      <td>Go until jurong point, crazy.. Available only ...</td>\n",
       "      <td>111</td>\n",
       "      <td>23</td>\n",
       "      <td>2</td>\n",
       "    </tr>\n",
       "    <tr>\n",
       "      <th>1</th>\n",
       "      <td>0</td>\n",
       "      <td>Ok lar... Joking wif u oni...</td>\n",
       "      <td>29</td>\n",
       "      <td>8</td>\n",
       "      <td>2</td>\n",
       "    </tr>\n",
       "    <tr>\n",
       "      <th>2</th>\n",
       "      <td>1</td>\n",
       "      <td>Free entry in 2 a wkly comp to win FA Cup fina...</td>\n",
       "      <td>155</td>\n",
       "      <td>37</td>\n",
       "      <td>2</td>\n",
       "    </tr>\n",
       "    <tr>\n",
       "      <th>3</th>\n",
       "      <td>0</td>\n",
       "      <td>U dun say so early hor... U c already then say...</td>\n",
       "      <td>49</td>\n",
       "      <td>13</td>\n",
       "      <td>1</td>\n",
       "    </tr>\n",
       "    <tr>\n",
       "      <th>4</th>\n",
       "      <td>0</td>\n",
       "      <td>Nah I don't think he goes to usf, he lives aro...</td>\n",
       "      <td>61</td>\n",
       "      <td>15</td>\n",
       "      <td>1</td>\n",
       "    </tr>\n",
       "  </tbody>\n",
       "</table>\n",
       "</div>"
      ],
      "text/plain": [
       "   type                                                msg  nb_carac  nb_word  \\\n",
       "0     0  Go until jurong point, crazy.. Available only ...       111       23   \n",
       "1     0                      Ok lar... Joking wif u oni...        29        8   \n",
       "2     1  Free entry in 2 a wkly comp to win FA Cup fina...       155       37   \n",
       "3     0  U dun say so early hor... U c already then say...        49       13   \n",
       "4     0  Nah I don't think he goes to usf, he lives aro...        61       15   \n",
       "\n",
       "   nb_sent  \n",
       "0        2  \n",
       "1        2  \n",
       "2        2  \n",
       "3        1  \n",
       "4        1  "
      ]
     },
     "execution_count": 24,
     "metadata": {},
     "output_type": "execute_result"
    }
   ],
   "source": [
    "data[\"nb_sent\"] = data[\"msg\"].apply(lambda x:len(nltk.tokenize.sent_tokenize(x)))\n",
    "data.head()"
   ]
  },
  {
   "cell_type": "code",
   "execution_count": 25,
   "metadata": {},
   "outputs": [
    {
     "data": {
      "text/html": [
       "<div>\n",
       "<style scoped>\n",
       "    .dataframe tbody tr th:only-of-type {\n",
       "        vertical-align: middle;\n",
       "    }\n",
       "\n",
       "    .dataframe tbody tr th {\n",
       "        vertical-align: top;\n",
       "    }\n",
       "\n",
       "    .dataframe thead th {\n",
       "        text-align: right;\n",
       "    }\n",
       "</style>\n",
       "<table border=\"1\" class=\"dataframe\">\n",
       "  <thead>\n",
       "    <tr style=\"text-align: right;\">\n",
       "      <th></th>\n",
       "      <th>type</th>\n",
       "      <th>0</th>\n",
       "      <th>1</th>\n",
       "    </tr>\n",
       "  </thead>\n",
       "  <tbody>\n",
       "    <tr>\n",
       "      <th rowspan=\"8\" valign=\"top\">nb_carac</th>\n",
       "      <th>count</th>\n",
       "      <td>4516.000000</td>\n",
       "      <td>653.000000</td>\n",
       "    </tr>\n",
       "    <tr>\n",
       "      <th>mean</th>\n",
       "      <td>70.459256</td>\n",
       "      <td>137.891271</td>\n",
       "    </tr>\n",
       "    <tr>\n",
       "      <th>std</th>\n",
       "      <td>56.358207</td>\n",
       "      <td>30.137753</td>\n",
       "    </tr>\n",
       "    <tr>\n",
       "      <th>min</th>\n",
       "      <td>2.000000</td>\n",
       "      <td>13.000000</td>\n",
       "    </tr>\n",
       "    <tr>\n",
       "      <th>25%</th>\n",
       "      <td>34.000000</td>\n",
       "      <td>132.000000</td>\n",
       "    </tr>\n",
       "    <tr>\n",
       "      <th>50%</th>\n",
       "      <td>52.000000</td>\n",
       "      <td>149.000000</td>\n",
       "    </tr>\n",
       "    <tr>\n",
       "      <th>75%</th>\n",
       "      <td>90.000000</td>\n",
       "      <td>157.000000</td>\n",
       "    </tr>\n",
       "    <tr>\n",
       "      <th>max</th>\n",
       "      <td>910.000000</td>\n",
       "      <td>224.000000</td>\n",
       "    </tr>\n",
       "    <tr>\n",
       "      <th rowspan=\"8\" valign=\"top\">nb_word</th>\n",
       "      <th>count</th>\n",
       "      <td>4516.000000</td>\n",
       "      <td>653.000000</td>\n",
       "    </tr>\n",
       "    <tr>\n",
       "      <th>mean</th>\n",
       "      <td>16.958370</td>\n",
       "      <td>27.474732</td>\n",
       "    </tr>\n",
       "    <tr>\n",
       "      <th>std</th>\n",
       "      <td>13.395014</td>\n",
       "      <td>6.893007</td>\n",
       "    </tr>\n",
       "    <tr>\n",
       "      <th>min</th>\n",
       "      <td>1.000000</td>\n",
       "      <td>2.000000</td>\n",
       "    </tr>\n",
       "    <tr>\n",
       "      <th>25%</th>\n",
       "      <td>8.000000</td>\n",
       "      <td>25.000000</td>\n",
       "    </tr>\n",
       "    <tr>\n",
       "      <th>50%</th>\n",
       "      <td>13.000000</td>\n",
       "      <td>29.000000</td>\n",
       "    </tr>\n",
       "    <tr>\n",
       "      <th>75%</th>\n",
       "      <td>22.000000</td>\n",
       "      <td>32.000000</td>\n",
       "    </tr>\n",
       "    <tr>\n",
       "      <th>max</th>\n",
       "      <td>219.000000</td>\n",
       "      <td>44.000000</td>\n",
       "    </tr>\n",
       "    <tr>\n",
       "      <th rowspan=\"8\" valign=\"top\">nb_sent</th>\n",
       "      <th>count</th>\n",
       "      <td>4516.000000</td>\n",
       "      <td>653.000000</td>\n",
       "    </tr>\n",
       "    <tr>\n",
       "      <th>mean</th>\n",
       "      <td>1.815545</td>\n",
       "      <td>2.969372</td>\n",
       "    </tr>\n",
       "    <tr>\n",
       "      <th>std</th>\n",
       "      <td>1.364098</td>\n",
       "      <td>1.488910</td>\n",
       "    </tr>\n",
       "    <tr>\n",
       "      <th>min</th>\n",
       "      <td>1.000000</td>\n",
       "      <td>1.000000</td>\n",
       "    </tr>\n",
       "    <tr>\n",
       "      <th>25%</th>\n",
       "      <td>1.000000</td>\n",
       "      <td>2.000000</td>\n",
       "    </tr>\n",
       "    <tr>\n",
       "      <th>50%</th>\n",
       "      <td>1.000000</td>\n",
       "      <td>3.000000</td>\n",
       "    </tr>\n",
       "    <tr>\n",
       "      <th>75%</th>\n",
       "      <td>2.000000</td>\n",
       "      <td>4.000000</td>\n",
       "    </tr>\n",
       "    <tr>\n",
       "      <th>max</th>\n",
       "      <td>38.000000</td>\n",
       "      <td>9.000000</td>\n",
       "    </tr>\n",
       "  </tbody>\n",
       "</table>\n",
       "</div>"
      ],
      "text/plain": [
       "type                      0           1\n",
       "nb_carac count  4516.000000  653.000000\n",
       "         mean     70.459256  137.891271\n",
       "         std      56.358207   30.137753\n",
       "         min       2.000000   13.000000\n",
       "         25%      34.000000  132.000000\n",
       "         50%      52.000000  149.000000\n",
       "         75%      90.000000  157.000000\n",
       "         max     910.000000  224.000000\n",
       "nb_word  count  4516.000000  653.000000\n",
       "         mean     16.958370   27.474732\n",
       "         std      13.395014    6.893007\n",
       "         min       1.000000    2.000000\n",
       "         25%       8.000000   25.000000\n",
       "         50%      13.000000   29.000000\n",
       "         75%      22.000000   32.000000\n",
       "         max     219.000000   44.000000\n",
       "nb_sent  count  4516.000000  653.000000\n",
       "         mean      1.815545    2.969372\n",
       "         std       1.364098    1.488910\n",
       "         min       1.000000    1.000000\n",
       "         25%       1.000000    2.000000\n",
       "         50%       1.000000    3.000000\n",
       "         75%       2.000000    4.000000\n",
       "         max      38.000000    9.000000"
      ]
     },
     "execution_count": 25,
     "metadata": {},
     "output_type": "execute_result"
    }
   ],
   "source": [
    "data.groupby(\"type\").describe().T"
   ]
  },
  {
   "cell_type": "code",
   "execution_count": 26,
   "metadata": {},
   "outputs": [],
   "source": [
    "import seaborn as sns"
   ]
  },
  {
   "cell_type": "code",
   "execution_count": 27,
   "metadata": {},
   "outputs": [
    {
     "data": {
      "text/plain": [
       "<seaborn.axisgrid.PairGrid at 0x2282d24f358>"
      ]
     },
     "execution_count": 27,
     "metadata": {},
     "output_type": "execute_result"
    },
    {
     "data": {
      "image/png": "[encoded data removed]",
      "text/plain": [
       "<Figure size 690.375x648 with 12 Axes>"
      ]
     },
     "metadata": {
      "needs_background": "light"
     },
     "output_type": "display_data"
    }
   ],
   "source": [
    "sns.pairplot(data,\n",
    "             hue=\"type\",\n",
    "             x_vars=[\"nb_carac\", \"nb_word\", \"nb_sent\"],\n",
    "             y_vars=[\"nb_carac\", \"nb_word\", \"nb_sent\"],\n",
    "             height=3,\n",
    "             diag_kind='auto'\n",
    "    )"
   ]
  },
  {
   "cell_type": "code",
   "execution_count": 28,
   "metadata": {},
   "outputs": [],
   "source": [
    "mat_corr = data.corr()"
   ]
  },
  {
   "cell_type": "code",
   "execution_count": 29,
   "metadata": {},
   "outputs": [
    {
     "data": {
      "text/plain": [
       "<matplotlib.axes._subplots.AxesSubplot at 0x228322774e0>"
      ]
     },
     "execution_count": 29,
     "metadata": {},
     "output_type": "execute_result"
    },
    {
     "data": {
      "image/png": "[encoded data removed]",
      "text/plain": [
       "<Figure size 576x576 with 2 Axes>"
      ]
     },
     "metadata": {
      "needs_background": "light"
     },
     "output_type": "display_data"
    }
   ],
   "source": [
    "fig, ax = plt.subplots(figsize=(8,8))\n",
    "mask = np.array(mat_corr)\n",
    "mask[np.tril_indices_from(mask)] = False\n",
    "sns.heatmap(mat_corr, mask=mask, vmax=.8, square=True, annot=True, ax= ax)"
   ]
  },
  {
   "cell_type": "markdown",
   "metadata": {},
   "source": [
    "# 3. Data preprocessing"
   ]
  },
  {
   "cell_type": "code",
   "execution_count": 30,
   "metadata": {},
   "outputs": [],
   "source": [
    "import re"
   ]
  },
  {
   "cell_type": "code",
   "execution_count": 31,
   "metadata": {},
   "outputs": [
    {
     "name": "stderr",
     "output_type": "stream",
     "text": [
      "[nltk_data] Downloading package stopwords to\n",
      "[nltk_data]     C:\\Users\\dell\\AppData\\Roaming\\nltk_data...\n",
      "[nltk_data]   Package stopwords is already up-to-date!\n"
     ]
    },
    {
     "data": {
      "text/plain": [
       "True"
      ]
     },
     "execution_count": 31,
     "metadata": {},
     "output_type": "execute_result"
    }
   ],
   "source": [
    "nltk.download(\"stopwords\")"
   ]
  },
  {
   "cell_type": "code",
   "execution_count": 32,
   "metadata": {},
   "outputs": [],
   "source": [
    "stop_words = nltk.corpus.stopwords.words(\"english\")"
   ]
  },
  {
   "cell_type": "code",
   "execution_count": 33,
   "metadata": {},
   "outputs": [],
   "source": [
    "from nltk.stem import PorterStemmer\n",
    "stemmer = PorterStemmer()"
   ]
  },
  {
   "cell_type": "code",
   "execution_count": 34,
   "metadata": {},
   "outputs": [],
   "source": [
    "def transform_text(text):\n",
    "    text = text.lower()\n",
    "    text = re.sub('[^a-zA-z0-9\\s]', '', text)\n",
    "    l_text = nltk.tokenize.word_tokenize(text)\n",
    "    l_word = [word for word in l_text if not word in stop_words]\n",
    "    stemmed_words = [stemmer.stem(word) for word in l_word]\n",
    "    return \" \".join(stemmed_words)"
   ]
  },
  {
   "cell_type": "code",
   "execution_count": 35,
   "metadata": {},
   "outputs": [],
   "source": [
    "data[\"transformed_text\"] = data[\"msg\"].apply(transform_text)"
   ]
  },
  {
   "cell_type": "code",
   "execution_count": 36,
   "metadata": {},
   "outputs": [
    {
     "data": {
      "text/html": [
       "<div>\n",
       "<style scoped>\n",
       "    .dataframe tbody tr th:only-of-type {\n",
       "        vertical-align: middle;\n",
       "    }\n",
       "\n",
       "    .dataframe tbody tr th {\n",
       "        vertical-align: top;\n",
       "    }\n",
       "\n",
       "    .dataframe thead th {\n",
       "        text-align: right;\n",
       "    }\n",
       "</style>\n",
       "<table border=\"1\" class=\"dataframe\">\n",
       "  <thead>\n",
       "    <tr style=\"text-align: right;\">\n",
       "      <th></th>\n",
       "      <th>type</th>\n",
       "      <th>msg</th>\n",
       "      <th>nb_carac</th>\n",
       "      <th>nb_word</th>\n",
       "      <th>nb_sent</th>\n",
       "      <th>transformed_text</th>\n",
       "    </tr>\n",
       "  </thead>\n",
       "  <tbody>\n",
       "    <tr>\n",
       "      <th>5378</th>\n",
       "      <td>1</td>\n",
       "      <td>Free entry to the gr8prizes wkly comp 4 a chan...</td>\n",
       "      <td>160</td>\n",
       "      <td>28</td>\n",
       "      <td>1</td>\n",
       "      <td>free entri gr8prize wkli comp 4 chanc win late...</td>\n",
       "    </tr>\n",
       "    <tr>\n",
       "      <th>4436</th>\n",
       "      <td>0</td>\n",
       "      <td>How come u got nothing to do?</td>\n",
       "      <td>29</td>\n",
       "      <td>8</td>\n",
       "      <td>1</td>\n",
       "      <td>come u got noth</td>\n",
       "    </tr>\n",
       "    <tr>\n",
       "      <th>1752</th>\n",
       "      <td>0</td>\n",
       "      <td>Give one miss from that number please</td>\n",
       "      <td>37</td>\n",
       "      <td>7</td>\n",
       "      <td>1</td>\n",
       "      <td>give one miss number pleas</td>\n",
       "    </tr>\n",
       "    <tr>\n",
       "      <th>4580</th>\n",
       "      <td>0</td>\n",
       "      <td>Not course. Only maths one day one chapter wit...</td>\n",
       "      <td>75</td>\n",
       "      <td>17</td>\n",
       "      <td>2</td>\n",
       "      <td>cours math one day one chapter one month finish</td>\n",
       "    </tr>\n",
       "    <tr>\n",
       "      <th>1759</th>\n",
       "      <td>0</td>\n",
       "      <td>Do u ever get a song stuck in your head for no...</td>\n",
       "      <td>107</td>\n",
       "      <td>28</td>\n",
       "      <td>1</td>\n",
       "      <td>u ever get song stuck head reason wont go away...</td>\n",
       "    </tr>\n",
       "    <tr>\n",
       "      <th>2945</th>\n",
       "      <td>0</td>\n",
       "      <td>make that 3! 4 fucks sake?! x</td>\n",
       "      <td>29</td>\n",
       "      <td>10</td>\n",
       "      <td>3</td>\n",
       "      <td>make 3 4 fuck sake x</td>\n",
       "    </tr>\n",
       "    <tr>\n",
       "      <th>2041</th>\n",
       "      <td>0</td>\n",
       "      <td>ÌÏ dun wan to watch infernal affair?</td>\n",
       "      <td>36</td>\n",
       "      <td>8</td>\n",
       "      <td>1</td>\n",
       "      <td>dun wan watch infern affair</td>\n",
       "    </tr>\n",
       "    <tr>\n",
       "      <th>4366</th>\n",
       "      <td>0</td>\n",
       "      <td>I like dis sweater fr mango but no more my siz...</td>\n",
       "      <td>70</td>\n",
       "      <td>15</td>\n",
       "      <td>1</td>\n",
       "      <td>like di sweater fr mango size alreadi irrit</td>\n",
       "    </tr>\n",
       "    <tr>\n",
       "      <th>2387</th>\n",
       "      <td>0</td>\n",
       "      <td>Also where's the piece</td>\n",
       "      <td>22</td>\n",
       "      <td>5</td>\n",
       "      <td>1</td>\n",
       "      <td>also where piec</td>\n",
       "    </tr>\n",
       "    <tr>\n",
       "      <th>5261</th>\n",
       "      <td>0</td>\n",
       "      <td>I absolutely LOVE South Park! I only recently ...</td>\n",
       "      <td>74</td>\n",
       "      <td>14</td>\n",
       "      <td>2</td>\n",
       "      <td>absolut love south park recent start watch offic</td>\n",
       "    </tr>\n",
       "  </tbody>\n",
       "</table>\n",
       "</div>"
      ],
      "text/plain": [
       "      type                                                msg  nb_carac  \\\n",
       "5378     1  Free entry to the gr8prizes wkly comp 4 a chan...       160   \n",
       "4436     0                      How come u got nothing to do?        29   \n",
       "1752     0              Give one miss from that number please        37   \n",
       "4580     0  Not course. Only maths one day one chapter wit...        75   \n",
       "1759     0  Do u ever get a song stuck in your head for no...       107   \n",
       "2945     0                      make that 3! 4 fucks sake?! x        29   \n",
       "2041     0               ÌÏ dun wan to watch infernal affair?        36   \n",
       "4366     0  I like dis sweater fr mango but no more my siz...        70   \n",
       "2387     0                             Also where's the piece        22   \n",
       "5261     0  I absolutely LOVE South Park! I only recently ...        74   \n",
       "\n",
       "      nb_word  nb_sent                                   transformed_text  \n",
       "5378       28        1  free entri gr8prize wkli comp 4 chanc win late...  \n",
       "4436        8        1                                    come u got noth  \n",
       "1752        7        1                         give one miss number pleas  \n",
       "4580       17        2    cours math one day one chapter one month finish  \n",
       "1759       28        1  u ever get song stuck head reason wont go away...  \n",
       "2945       10        3                               make 3 4 fuck sake x  \n",
       "2041        8        1                        dun wan watch infern affair  \n",
       "4366       15        1        like di sweater fr mango size alreadi irrit  \n",
       "2387        5        1                                    also where piec  \n",
       "5261       14        2   absolut love south park recent start watch offic  "
      ]
     },
     "execution_count": 36,
     "metadata": {},
     "output_type": "execute_result"
    }
   ],
   "source": [
    "data.sample(10)"
   ]
  },
  {
   "cell_type": "code",
   "execution_count": 37,
   "metadata": {},
   "outputs": [],
   "source": [
    "from wordcloud import WordCloud"
   ]
  },
  {
   "cell_type": "code",
   "execution_count": 38,
   "metadata": {},
   "outputs": [],
   "source": [
    "wc = WordCloud(width=500,\n",
    "              height=500,\n",
    "              min_font_size=10,\n",
    "              background_color='white')"
   ]
  },
  {
   "cell_type": "code",
   "execution_count": 39,
   "metadata": {},
   "outputs": [],
   "source": [
    "df_spam = data[data[\"type\"]== 1][\"transformed_text\"].str.cat(sep=\" \")\n",
    "df_ham = data[data[\"type\"]== 0][\"transformed_text\"].str.cat(sep=\" \")"
   ]
  },
  {
   "cell_type": "code",
   "execution_count": 40,
   "metadata": {},
   "outputs": [
    {
     "data": {
      "text/plain": [
       "<matplotlib.image.AxesImage at 0x228325d49b0>"
      ]
     },
     "execution_count": 40,
     "metadata": {},
     "output_type": "execute_result"
    },
    {
     "data": {
      "image/png": "[encoded data removed]",
      "text/plain": [
       "<Figure size 864x432 with 1 Axes>"
      ]
     },
     "metadata": {
      "needs_background": "light"
     },
     "output_type": "display_data"
    }
   ],
   "source": [
    "plt.figure(figsize=(12,6))\n",
    "spam_wc = wc.generate(df_spam)\n",
    "plt.imshow(spam_wc)"
   ]
  },
  {
   "cell_type": "code",
   "execution_count": 41,
   "metadata": {},
   "outputs": [
    {
     "data": {
      "text/plain": [
       "<matplotlib.image.AxesImage at 0x22831ff1208>"
      ]
     },
     "execution_count": 41,
     "metadata": {},
     "output_type": "execute_result"
    },
    {
     "data": {
      "image/png": "[encoded data removed]",
      "text/plain": [
       "<Figure size 864x432 with 1 Axes>"
      ]
     },
     "metadata": {
      "needs_background": "light"
     },
     "output_type": "display_data"
    }
   ],
   "source": [
    "plt.figure(figsize=(12,6))\n",
    "ham_wc = wc.generate(df_ham)\n",
    "plt.imshow(ham_wc)"
   ]
  },
  {
   "cell_type": "code",
   "execution_count": 42,
   "metadata": {},
   "outputs": [],
   "source": [
    "l_spam_words = df_spam.split(' ')\n",
    "l_ham_words = df_ham.split(' ')"
   ]
  },
  {
   "cell_type": "code",
   "execution_count": 43,
   "metadata": {},
   "outputs": [],
   "source": [
    "from collections import Counter"
   ]
  },
  {
   "cell_type": "code",
   "execution_count": 44,
   "metadata": {},
   "outputs": [
    {
     "data": {
      "text/plain": [
       "[('call', 321),\n",
       " ('free', 188),\n",
       " ('2', 155),\n",
       " ('txt', 137),\n",
       " ('u', 123),\n",
       " ('text', 122),\n",
       " ('ur', 119),\n",
       " ('mobil', 114),\n",
       " ('stop', 101),\n",
       " ('repli', 100),\n",
       " ('claim', 98),\n",
       " ('4', 97),\n",
       " ('prize', 82),\n",
       " ('get', 73),\n",
       " ('new', 64),\n",
       " ('servic', 64),\n",
       " ('tone', 62),\n",
       " ('send', 59),\n",
       " ('urgent', 57),\n",
       " ('nokia', 57),\n",
       " ('contact', 56),\n",
       " ('award', 55),\n",
       " ('phone', 52),\n",
       " ('cash', 51),\n",
       " ('week', 49),\n",
       " ('pleas', 49),\n",
       " ('win', 48),\n",
       " ('tc', 44),\n",
       " ('collect', 44),\n",
       " ('min', 44)]"
      ]
     },
     "execution_count": 44,
     "metadata": {},
     "output_type": "execute_result"
    }
   ],
   "source": [
    "Counter(l_spam_words).most_common(30)"
   ]
  },
  {
   "cell_type": "code",
   "execution_count": 45,
   "metadata": {},
   "outputs": [
    {
     "data": {
      "text/plain": [
       "[('u', 876), ('im', 441), ('go', 401), ('get', 350), ('2', 288)]"
      ]
     },
     "execution_count": 45,
     "metadata": {},
     "output_type": "execute_result"
    }
   ],
   "source": [
    "Counter(l_ham_words).most_common(5)"
   ]
  },
  {
   "cell_type": "markdown",
   "metadata": {},
   "source": [
    "# 4. Modeling"
   ]
  },
  {
   "cell_type": "markdown",
   "metadata": {},
   "source": [
    "## 4.1 Naive Bays"
   ]
  },
  {
   "cell_type": "markdown",
   "metadata": {},
   "source": [
    "### 4.1.1 Using CountVectorizer"
   ]
  },
  {
   "cell_type": "code",
   "execution_count": 46,
   "metadata": {},
   "outputs": [],
   "source": [
    "from sklearn.feature_extraction.text import CountVectorizer"
   ]
  },
  {
   "cell_type": "code",
   "execution_count": 47,
   "metadata": {},
   "outputs": [],
   "source": [
    "Vectorizer = CountVectorizer()"
   ]
  },
  {
   "cell_type": "code",
   "execution_count": 48,
   "metadata": {},
   "outputs": [],
   "source": [
    "X = Vectorizer.fit_transform(data[\"transformed_text\"]).toarray()"
   ]
  },
  {
   "cell_type": "code",
   "execution_count": 49,
   "metadata": {},
   "outputs": [
    {
     "data": {
      "text/plain": [
       "(5169, 8017)"
      ]
     },
     "execution_count": 49,
     "metadata": {},
     "output_type": "execute_result"
    }
   ],
   "source": [
    "X.shape"
   ]
  },
  {
   "cell_type": "code",
   "execution_count": 50,
   "metadata": {},
   "outputs": [],
   "source": [
    "Y = data[\"type\"]"
   ]
  },
  {
   "cell_type": "code",
   "execution_count": 51,
   "metadata": {},
   "outputs": [],
   "source": [
    "from sklearn.model_selection import train_test_split"
   ]
  },
  {
   "cell_type": "code",
   "execution_count": 52,
   "metadata": {},
   "outputs": [],
   "source": [
    "x_train, x_test, y_train, y_test = train_test_split(X,\n",
    "                                                    Y,\n",
    "                                                    test_size = 0.2,\n",
    "                                                    random_state = 2\n",
    "                                                   )"
   ]
  },
  {
   "cell_type": "code",
   "execution_count": 53,
   "metadata": {},
   "outputs": [
    {
     "data": {
      "text/plain": [
       "(4135, 8017)"
      ]
     },
     "execution_count": 53,
     "metadata": {},
     "output_type": "execute_result"
    }
   ],
   "source": [
    "x_train.shape"
   ]
  },
  {
   "cell_type": "code",
   "execution_count": 54,
   "metadata": {},
   "outputs": [
    {
     "data": {
      "text/plain": [
       "(1034, 8017)"
      ]
     },
     "execution_count": 54,
     "metadata": {},
     "output_type": "execute_result"
    }
   ],
   "source": [
    "x_test.shape"
   ]
  },
  {
   "cell_type": "code",
   "execution_count": 55,
   "metadata": {},
   "outputs": [],
   "source": [
    "from sklearn.naive_bayes import BernoulliNB, GaussianNB, MultinomialNB"
   ]
  },
  {
   "cell_type": "code",
   "execution_count": 56,
   "metadata": {},
   "outputs": [],
   "source": [
    "from sklearn.metrics import confusion_matrix, precision_score, accuracy_score"
   ]
  },
  {
   "cell_type": "code",
   "execution_count": 57,
   "metadata": {},
   "outputs": [],
   "source": [
    "NB = {}"
   ]
  },
  {
   "cell_type": "code",
   "execution_count": 58,
   "metadata": {},
   "outputs": [
    {
     "name": "stdout",
     "output_type": "stream",
     "text": [
      "Accuracy : 0.9709864603481625\n",
      "Precision : 0.9821428571428571\n",
      "Confusion matrix:\n",
      "[[894   2]\n",
      " [ 28 110]]\n"
     ]
    }
   ],
   "source": [
    "B_NB = BernoulliNB()\n",
    "B_NB.fit(x_train,y_train)\n",
    "pred = B_NB.predict(x_test)\n",
    "print(\"Accuracy : {0}\\nPrecision : {1}\\nConfusion matrix:\\n{2}\".format(accuracy_score(y_test,pred),\n",
    "                                                              precision_score(y_test,pred),\n",
    "                                                             confusion_matrix(y_test,pred)))\n",
    "NB[\"Bernoulli\"] = [accuracy_score(y_test,pred), precision_score(y_test,pred)]"
   ]
  },
  {
   "cell_type": "code",
   "execution_count": 59,
   "metadata": {},
   "outputs": [
    {
     "name": "stdout",
     "output_type": "stream",
     "text": [
      "Accuracy : 0.8810444874274661\n",
      "Precision : 0.5330396475770925\n",
      "Confusion matrix:\n",
      "[[790 106]\n",
      " [ 17 121]]\n"
     ]
    }
   ],
   "source": [
    "G_NB = GaussianNB()\n",
    "G_NB.fit(x_train,y_train)\n",
    "pred = G_NB.predict(x_test)\n",
    "print(\"Accuracy : {0}\\nPrecision : {1}\\nConfusion matrix:\\n{2}\".format(accuracy_score(y_test,pred),\n",
    "                                                              precision_score(y_test,pred),\n",
    "                                                             confusion_matrix(y_test,pred)))\n",
    "NB[\"Gaussian\"] = [accuracy_score(y_test,pred), precision_score(y_test,pred)]"
   ]
  },
  {
   "cell_type": "code",
   "execution_count": 60,
   "metadata": {},
   "outputs": [
    {
     "name": "stdout",
     "output_type": "stream",
     "text": [
      "Accuracy : 0.965183752417795\n",
      "Precision : 0.8355263157894737\n",
      "Confusion matrix:\n",
      "[[871  25]\n",
      " [ 11 127]]\n"
     ]
    }
   ],
   "source": [
    "M_NB = MultinomialNB()\n",
    "M_NB.fit(x_train,y_train)\n",
    "pred = M_NB.predict(x_test)\n",
    "print(\"Accuracy : {0}\\nPrecision : {1}\\nConfusion matrix:\\n{2}\".format(accuracy_score(y_test,pred),\n",
    "                                                              precision_score(y_test,pred),\n",
    "                                                             confusion_matrix(y_test,pred)))\n",
    "NB[\"Multinomial\"] = [accuracy_score(y_test,pred), precision_score(y_test,pred)]"
   ]
  },
  {
   "cell_type": "code",
   "execution_count": 61,
   "metadata": {},
   "outputs": [],
   "source": [
    "df_cv = pd.DataFrame.from_dict(NB,orient='index', columns=[\"Accuracy_CV\", \"Precision_CV\"])"
   ]
  },
  {
   "cell_type": "markdown",
   "metadata": {},
   "source": [
    "### 4.1.2 Using TF-IDF Vectorizer"
   ]
  },
  {
   "cell_type": "code",
   "execution_count": 62,
   "metadata": {},
   "outputs": [],
   "source": [
    "from sklearn.feature_extraction.text import TfidfVectorizer"
   ]
  },
  {
   "cell_type": "code",
   "execution_count": 63,
   "metadata": {},
   "outputs": [],
   "source": [
    "tfV = TfidfVectorizer(use_idf=True)"
   ]
  },
  {
   "cell_type": "code",
   "execution_count": 64,
   "metadata": {},
   "outputs": [
    {
     "data": {
      "text/plain": [
       "(5169, 8017)"
      ]
     },
     "execution_count": 64,
     "metadata": {},
     "output_type": "execute_result"
    }
   ],
   "source": [
    "X = tfV.fit_transform(data[\"transformed_text\"]).toarray()\n",
    "X.shape"
   ]
  },
  {
   "cell_type": "code",
   "execution_count": 65,
   "metadata": {},
   "outputs": [],
   "source": [
    "Y = data[\"type\"]"
   ]
  },
  {
   "cell_type": "code",
   "execution_count": 66,
   "metadata": {},
   "outputs": [],
   "source": [
    "x_train, x_test, y_train, y_test = train_test_split(X,\n",
    "                                                    Y,\n",
    "                                                    test_size = 0.2,\n",
    "                                                    random_state = 2\n",
    "                                                   )"
   ]
  },
  {
   "cell_type": "code",
   "execution_count": 67,
   "metadata": {},
   "outputs": [],
   "source": [
    "NB = {}"
   ]
  },
  {
   "cell_type": "code",
   "execution_count": 68,
   "metadata": {},
   "outputs": [
    {
     "name": "stdout",
     "output_type": "stream",
     "text": [
      "Accuracy : 0.9709864603481625\n",
      "Precision : 0.9821428571428571\n",
      "Confusion matrix:\n",
      "[[894   2]\n",
      " [ 28 110]]\n"
     ]
    }
   ],
   "source": [
    "B_NB = BernoulliNB()\n",
    "B_NB.fit(x_train,y_train)\n",
    "pred = B_NB.predict(x_test)\n",
    "print(\"Accuracy : {0}\\nPrecision : {1}\\nConfusion matrix:\\n{2}\".format(accuracy_score(y_test,pred),\n",
    "                                                              precision_score(y_test,pred),\n",
    "                                                             confusion_matrix(y_test,pred)))\n",
    "NB[\"Bernoulli\"] = [accuracy_score(y_test,pred), precision_score(y_test,pred)]"
   ]
  },
  {
   "cell_type": "code",
   "execution_count": 69,
   "metadata": {},
   "outputs": [
    {
     "name": "stdout",
     "output_type": "stream",
     "text": [
      "Accuracy : 0.8762088974854932\n",
      "Precision : 0.5225225225225225\n",
      "Confusion matrix:\n",
      "[[790 106]\n",
      " [ 22 116]]\n"
     ]
    }
   ],
   "source": [
    "G_NB = GaussianNB()\n",
    "G_NB.fit(x_train,y_train)\n",
    "pred = G_NB.predict(x_test)\n",
    "print(\"Accuracy : {0}\\nPrecision : {1}\\nConfusion matrix:\\n{2}\".format(accuracy_score(y_test,pred),\n",
    "                                                              precision_score(y_test,pred),\n",
    "                                                             confusion_matrix(y_test,pred)))\n",
    "NB[\"Gaussian\"] = [accuracy_score(y_test,pred), precision_score(y_test,pred)]"
   ]
  },
  {
   "cell_type": "code",
   "execution_count": 70,
   "metadata": {},
   "outputs": [
    {
     "name": "stdout",
     "output_type": "stream",
     "text": [
      "Accuracy : 0.9564796905222437\n",
      "Precision : 1.0\n",
      "Confusion matrix:\n",
      "[[896   0]\n",
      " [ 45  93]]\n"
     ]
    }
   ],
   "source": [
    "M_NB = MultinomialNB()\n",
    "M_NB.fit(x_train,y_train)\n",
    "pred = M_NB.predict(x_test)\n",
    "print(\"Accuracy : {0}\\nPrecision : {1}\\nConfusion matrix:\\n{2}\".format(accuracy_score(y_test,pred),\n",
    "                                                              precision_score(y_test,pred),\n",
    "                                                             confusion_matrix(y_test,pred)))\n",
    "NB[\"Multinomial\"] = [accuracy_score(y_test,pred), precision_score(y_test,pred)]"
   ]
  },
  {
   "cell_type": "code",
   "execution_count": 71,
   "metadata": {},
   "outputs": [],
   "source": [
    "df_tfv = pd.DataFrame.from_dict(NB,orient='index', columns=[\"Accuracy_TFV\", \"Precision_TFV\"])"
   ]
  },
  {
   "cell_type": "markdown",
   "metadata": {},
   "source": [
    "### 4.1.3 Result"
   ]
  },
  {
   "cell_type": "code",
   "execution_count": 72,
   "metadata": {},
   "outputs": [
    {
     "data": {
      "text/html": [
       "<div>\n",
       "<style scoped>\n",
       "    .dataframe tbody tr th:only-of-type {\n",
       "        vertical-align: middle;\n",
       "    }\n",
       "\n",
       "    .dataframe tbody tr th {\n",
       "        vertical-align: top;\n",
       "    }\n",
       "\n",
       "    .dataframe thead th {\n",
       "        text-align: right;\n",
       "    }\n",
       "</style>\n",
       "<table border=\"1\" class=\"dataframe\">\n",
       "  <thead>\n",
       "    <tr style=\"text-align: right;\">\n",
       "      <th></th>\n",
       "      <th>Accuracy_CV</th>\n",
       "      <th>Precision_CV</th>\n",
       "      <th>Accuracy_TFV</th>\n",
       "      <th>Precision_TFV</th>\n",
       "    </tr>\n",
       "  </thead>\n",
       "  <tbody>\n",
       "    <tr>\n",
       "      <th>Bernoulli</th>\n",
       "      <td>0.970986</td>\n",
       "      <td>0.982143</td>\n",
       "      <td>0.970986</td>\n",
       "      <td>0.982143</td>\n",
       "    </tr>\n",
       "    <tr>\n",
       "      <th>Gaussian</th>\n",
       "      <td>0.881044</td>\n",
       "      <td>0.533040</td>\n",
       "      <td>0.876209</td>\n",
       "      <td>0.522523</td>\n",
       "    </tr>\n",
       "    <tr>\n",
       "      <th>Multinomial</th>\n",
       "      <td>0.965184</td>\n",
       "      <td>0.835526</td>\n",
       "      <td>0.956480</td>\n",
       "      <td>1.000000</td>\n",
       "    </tr>\n",
       "  </tbody>\n",
       "</table>\n",
       "</div>"
      ],
      "text/plain": [
       "             Accuracy_CV  Precision_CV  Accuracy_TFV  Precision_TFV\n",
       "Bernoulli       0.970986      0.982143      0.970986       0.982143\n",
       "Gaussian        0.881044      0.533040      0.876209       0.522523\n",
       "Multinomial     0.965184      0.835526      0.956480       1.000000"
      ]
     },
     "execution_count": 72,
     "metadata": {},
     "output_type": "execute_result"
    }
   ],
   "source": [
    "NB_result = pd.concat([df_cv,df_tfv], axis=1)\n",
    "NB_result"
   ]
  },
  {
   "cell_type": "markdown",
   "metadata": {},
   "source": [
    "## 4.2 Other models"
   ]
  },
  {
   "cell_type": "code",
   "execution_count": 73,
   "metadata": {},
   "outputs": [],
   "source": [
    "from sklearn.linear_model import LogisticRegression\n",
    "from sklearn.svm import SVC\n",
    "from sklearn.tree import DecisionTreeClassifier\n",
    "from sklearn.neighbors import KNeighborsClassifier\n",
    "from sklearn.ensemble import RandomForestClassifier, ExtraTreesClassifier, GradientBoostingClassifier"
   ]
  },
  {
   "cell_type": "code",
   "execution_count": 74,
   "metadata": {},
   "outputs": [],
   "source": [
    "svm = SVC(kernel='sigmoid', gamma=1.0)\n",
    "knn = KNeighborsClassifier()\n",
    "dtc = DecisionTreeClassifier(max_depth=5)\n",
    "lr = LogisticRegression(solver='liblinear', penalty='l1')\n",
    "rfc = RandomForestClassifier(n_estimators=50, random_state=2)\n",
    "etc = ExtraTreesClassifier(n_estimators=50, random_state=2)\n",
    "gbc = GradientBoostingClassifier(n_estimators=50, random_state=2)\n",
    "mnb = MultinomialNB()"
   ]
  },
  {
   "cell_type": "code",
   "execution_count": 75,
   "metadata": {},
   "outputs": [],
   "source": [
    "mdls = {\n",
    "    'SVM':svm,\n",
    "    'KNN':knn,\n",
    "    'DT':dtc,\n",
    "    'LR':lr,\n",
    "    'RF':rfc,\n",
    "    'ET':etc,\n",
    "    'GB':gbc,\n",
    "    'NB':mnb\n",
    "}"
   ]
  },
  {
   "cell_type": "code",
   "execution_count": 76,
   "metadata": {},
   "outputs": [],
   "source": [
    "def run_model(mdl, X_train, Y_train, X_test, Y_test):\n",
    "    mdl.fit(X_train, Y_train)\n",
    "    prediction = mdl.predict(X_test)\n",
    "    return accuracy_score(Y_test, prediction), precision_score(Y_test, prediction)"
   ]
  },
  {
   "cell_type": "code",
   "execution_count": 77,
   "metadata": {},
   "outputs": [],
   "source": [
    "reslt = []\n",
    "for n,mdl in mdls.items():\n",
    "    acc, prec = run_model(mdl, x_train, y_train, x_test, y_test)\n",
    "    reslt.append([n, acc, prec])\n",
    "\n",
    "com_df = pd.DataFrame(reslt, columns=[\"model\", \"Accuracy\", \"precision\"])"
   ]
  },
  {
   "cell_type": "code",
   "execution_count": 78,
   "metadata": {},
   "outputs": [
    {
     "data": {
      "text/html": [
       "<div>\n",
       "<style scoped>\n",
       "    .dataframe tbody tr th:only-of-type {\n",
       "        vertical-align: middle;\n",
       "    }\n",
       "\n",
       "    .dataframe tbody tr th {\n",
       "        vertical-align: top;\n",
       "    }\n",
       "\n",
       "    .dataframe thead th {\n",
       "        text-align: right;\n",
       "    }\n",
       "</style>\n",
       "<table border=\"1\" class=\"dataframe\">\n",
       "  <thead>\n",
       "    <tr style=\"text-align: right;\">\n",
       "      <th></th>\n",
       "      <th>model</th>\n",
       "      <th>Accuracy</th>\n",
       "      <th>precision</th>\n",
       "    </tr>\n",
       "  </thead>\n",
       "  <tbody>\n",
       "    <tr>\n",
       "      <th>1</th>\n",
       "      <td>KNN</td>\n",
       "      <td>0.896518</td>\n",
       "      <td>1.000000</td>\n",
       "    </tr>\n",
       "    <tr>\n",
       "      <th>4</th>\n",
       "      <td>RF</td>\n",
       "      <td>0.970986</td>\n",
       "      <td>1.000000</td>\n",
       "    </tr>\n",
       "    <tr>\n",
       "      <th>7</th>\n",
       "      <td>NB</td>\n",
       "      <td>0.956480</td>\n",
       "      <td>1.000000</td>\n",
       "    </tr>\n",
       "    <tr>\n",
       "      <th>0</th>\n",
       "      <td>SVM</td>\n",
       "      <td>0.972921</td>\n",
       "      <td>0.974138</td>\n",
       "    </tr>\n",
       "    <tr>\n",
       "      <th>5</th>\n",
       "      <td>ET</td>\n",
       "      <td>0.972921</td>\n",
       "      <td>0.966102</td>\n",
       "    </tr>\n",
       "    <tr>\n",
       "      <th>3</th>\n",
       "      <td>LR</td>\n",
       "      <td>0.952611</td>\n",
       "      <td>0.940594</td>\n",
       "    </tr>\n",
       "    <tr>\n",
       "      <th>6</th>\n",
       "      <td>GB</td>\n",
       "      <td>0.955513</td>\n",
       "      <td>0.925926</td>\n",
       "    </tr>\n",
       "    <tr>\n",
       "      <th>2</th>\n",
       "      <td>DT</td>\n",
       "      <td>0.938104</td>\n",
       "      <td>0.855769</td>\n",
       "    </tr>\n",
       "  </tbody>\n",
       "</table>\n",
       "</div>"
      ],
      "text/plain": [
       "  model  Accuracy  precision\n",
       "1   KNN  0.896518   1.000000\n",
       "4    RF  0.970986   1.000000\n",
       "7    NB  0.956480   1.000000\n",
       "0   SVM  0.972921   0.974138\n",
       "5    ET  0.972921   0.966102\n",
       "3    LR  0.952611   0.940594\n",
       "6    GB  0.955513   0.925926\n",
       "2    DT  0.938104   0.855769"
      ]
     },
     "execution_count": 78,
     "metadata": {},
     "output_type": "execute_result"
    }
   ],
   "source": [
    "com_df.sort_values(by=\"precision\", ascending=False)"
   ]
  },
  {
   "cell_type": "code",
   "execution_count": 79,
   "metadata": {},
   "outputs": [
    {
     "data": {
      "text/plain": [
       "(0.0, 1.0)"
      ]
     },
     "execution_count": 79,
     "metadata": {},
     "output_type": "execute_result"
    },
    {
     "data": {
      "image/png": "[encoded data removed]",
      "text/plain": [
       "<Figure size 576x360 with 1 Axes>"
      ]
     },
     "metadata": {
      "needs_background": "light"
     },
     "output_type": "display_data"
    }
   ],
   "source": [
    "com_df.plot(kind='bar',x=\"model\", figsize=(8,5))\n",
    "plt.legend(loc='center right')\n",
    "plt.ylim(0,1)"
   ]
  },
  {
   "cell_type": "markdown",
   "metadata": {},
   "source": [
    "## 4.3 Model improvement"
   ]
  },
  {
   "cell_type": "markdown",
   "metadata": {},
   "source": [
    "### 4.3.1 max features"
   ]
  },
  {
   "cell_type": "code",
   "execution_count": 80,
   "metadata": {},
   "outputs": [],
   "source": [
    "tfV = TfidfVectorizer(use_idf=True, max_features=3000)"
   ]
  },
  {
   "cell_type": "code",
   "execution_count": 81,
   "metadata": {},
   "outputs": [
    {
     "data": {
      "text/plain": [
       "(5169, 3000)"
      ]
     },
     "execution_count": 81,
     "metadata": {},
     "output_type": "execute_result"
    }
   ],
   "source": [
    "X = tfV.fit_transform(data[\"transformed_text\"]).toarray()\n",
    "X.shape"
   ]
  },
  {
   "cell_type": "code",
   "execution_count": 82,
   "metadata": {},
   "outputs": [],
   "source": [
    "Y = data[\"type\"]\n",
    "x_train, x_test, y_train, y_test = train_test_split(X,\n",
    "                                                    Y,\n",
    "                                                    test_size = 0.2,\n",
    "                                                    random_state = 2\n",
    "                                                   )"
   ]
  },
  {
   "cell_type": "code",
   "execution_count": 83,
   "metadata": {},
   "outputs": [],
   "source": [
    "reslt = []\n",
    "for n,mdl in mdls.items():\n",
    "    acc, prec = run_model(mdl, x_train, y_train, x_test, y_test)\n",
    "    reslt.append([n, acc, prec])"
   ]
  },
  {
   "cell_type": "code",
   "execution_count": 84,
   "metadata": {},
   "outputs": [],
   "source": [
    "com_df = pd.merge(com_df, pd.DataFrame(reslt, columns=[\"model\", \"Accuracy_3000\", \"precision_3000\"]), on=\"model\")"
   ]
  },
  {
   "cell_type": "code",
   "execution_count": 85,
   "metadata": {},
   "outputs": [
    {
     "data": {
      "text/html": [
       "<div>\n",
       "<style scoped>\n",
       "    .dataframe tbody tr th:only-of-type {\n",
       "        vertical-align: middle;\n",
       "    }\n",
       "\n",
       "    .dataframe tbody tr th {\n",
       "        vertical-align: top;\n",
       "    }\n",
       "\n",
       "    .dataframe thead th {\n",
       "        text-align: right;\n",
       "    }\n",
       "</style>\n",
       "<table border=\"1\" class=\"dataframe\">\n",
       "  <thead>\n",
       "    <tr style=\"text-align: right;\">\n",
       "      <th></th>\n",
       "      <th>model</th>\n",
       "      <th>Accuracy</th>\n",
       "      <th>precision</th>\n",
       "      <th>Accuracy_3000</th>\n",
       "      <th>precision_3000</th>\n",
       "    </tr>\n",
       "  </thead>\n",
       "  <tbody>\n",
       "    <tr>\n",
       "      <th>0</th>\n",
       "      <td>SVM</td>\n",
       "      <td>0.972921</td>\n",
       "      <td>0.974138</td>\n",
       "      <td>0.975822</td>\n",
       "      <td>0.966942</td>\n",
       "    </tr>\n",
       "    <tr>\n",
       "      <th>1</th>\n",
       "      <td>KNN</td>\n",
       "      <td>0.896518</td>\n",
       "      <td>1.000000</td>\n",
       "      <td>0.906190</td>\n",
       "      <td>1.000000</td>\n",
       "    </tr>\n",
       "    <tr>\n",
       "      <th>2</th>\n",
       "      <td>DT</td>\n",
       "      <td>0.938104</td>\n",
       "      <td>0.855769</td>\n",
       "      <td>0.940039</td>\n",
       "      <td>0.865385</td>\n",
       "    </tr>\n",
       "    <tr>\n",
       "      <th>3</th>\n",
       "      <td>LR</td>\n",
       "      <td>0.952611</td>\n",
       "      <td>0.940594</td>\n",
       "      <td>0.956480</td>\n",
       "      <td>0.951456</td>\n",
       "    </tr>\n",
       "    <tr>\n",
       "      <th>4</th>\n",
       "      <td>RF</td>\n",
       "      <td>0.970986</td>\n",
       "      <td>1.000000</td>\n",
       "      <td>0.970986</td>\n",
       "      <td>0.982143</td>\n",
       "    </tr>\n",
       "    <tr>\n",
       "      <th>5</th>\n",
       "      <td>ET</td>\n",
       "      <td>0.972921</td>\n",
       "      <td>0.966102</td>\n",
       "      <td>0.977756</td>\n",
       "      <td>0.967480</td>\n",
       "    </tr>\n",
       "    <tr>\n",
       "      <th>6</th>\n",
       "      <td>GB</td>\n",
       "      <td>0.955513</td>\n",
       "      <td>0.925926</td>\n",
       "      <td>0.950677</td>\n",
       "      <td>0.939394</td>\n",
       "    </tr>\n",
       "    <tr>\n",
       "      <th>7</th>\n",
       "      <td>NB</td>\n",
       "      <td>0.956480</td>\n",
       "      <td>1.000000</td>\n",
       "      <td>0.974855</td>\n",
       "      <td>1.000000</td>\n",
       "    </tr>\n",
       "  </tbody>\n",
       "</table>\n",
       "</div>"
      ],
      "text/plain": [
       "  model  Accuracy  precision  Accuracy_3000  precision_3000\n",
       "0   SVM  0.972921   0.974138       0.975822        0.966942\n",
       "1   KNN  0.896518   1.000000       0.906190        1.000000\n",
       "2    DT  0.938104   0.855769       0.940039        0.865385\n",
       "3    LR  0.952611   0.940594       0.956480        0.951456\n",
       "4    RF  0.970986   1.000000       0.970986        0.982143\n",
       "5    ET  0.972921   0.966102       0.977756        0.967480\n",
       "6    GB  0.955513   0.925926       0.950677        0.939394\n",
       "7    NB  0.956480   1.000000       0.974855        1.000000"
      ]
     },
     "execution_count": 85,
     "metadata": {},
     "output_type": "execute_result"
    }
   ],
   "source": [
    "com_df"
   ]
  },
  {
   "cell_type": "code",
   "execution_count": 86,
   "metadata": {},
   "outputs": [],
   "source": [
    "tfV = TfidfVectorizer(use_idf=True, max_features=5000)\n",
    "X = tfV.fit_transform(data[\"transformed_text\"]).toarray()"
   ]
  },
  {
   "cell_type": "code",
   "execution_count": 87,
   "metadata": {},
   "outputs": [],
   "source": [
    "Y = data[\"type\"]\n",
    "x_train, x_test, y_train, y_test = train_test_split(X,\n",
    "                                                    Y,\n",
    "                                                    test_size = 0.2,\n",
    "                                                    random_state = 2\n",
    "                                                   )"
   ]
  },
  {
   "cell_type": "code",
   "execution_count": 88,
   "metadata": {},
   "outputs": [],
   "source": [
    "reslt = []\n",
    "for n,mdl in mdls.items():\n",
    "    acc, prec = run_model(mdl, x_train, y_train, x_test, y_test)\n",
    "    reslt.append([n, acc, prec])"
   ]
  },
  {
   "cell_type": "code",
   "execution_count": 89,
   "metadata": {},
   "outputs": [
    {
     "data": {
      "text/html": [
       "<div>\n",
       "<style scoped>\n",
       "    .dataframe tbody tr th:only-of-type {\n",
       "        vertical-align: middle;\n",
       "    }\n",
       "\n",
       "    .dataframe tbody tr th {\n",
       "        vertical-align: top;\n",
       "    }\n",
       "\n",
       "    .dataframe thead th {\n",
       "        text-align: right;\n",
       "    }\n",
       "</style>\n",
       "<table border=\"1\" class=\"dataframe\">\n",
       "  <thead>\n",
       "    <tr style=\"text-align: right;\">\n",
       "      <th></th>\n",
       "      <th>model</th>\n",
       "      <th>Accuracy</th>\n",
       "      <th>precision</th>\n",
       "      <th>Accuracy_3000</th>\n",
       "      <th>precision_3000</th>\n",
       "      <th>Accuracy_5000</th>\n",
       "      <th>precision_5000</th>\n",
       "    </tr>\n",
       "  </thead>\n",
       "  <tbody>\n",
       "    <tr>\n",
       "      <th>0</th>\n",
       "      <td>SVM</td>\n",
       "      <td>0.972921</td>\n",
       "      <td>0.974138</td>\n",
       "      <td>0.975822</td>\n",
       "      <td>0.966942</td>\n",
       "      <td>0.973888</td>\n",
       "      <td>0.966387</td>\n",
       "    </tr>\n",
       "    <tr>\n",
       "      <th>1</th>\n",
       "      <td>KNN</td>\n",
       "      <td>0.896518</td>\n",
       "      <td>1.000000</td>\n",
       "      <td>0.906190</td>\n",
       "      <td>1.000000</td>\n",
       "      <td>0.903288</td>\n",
       "      <td>1.000000</td>\n",
       "    </tr>\n",
       "    <tr>\n",
       "      <th>2</th>\n",
       "      <td>DT</td>\n",
       "      <td>0.938104</td>\n",
       "      <td>0.855769</td>\n",
       "      <td>0.940039</td>\n",
       "      <td>0.865385</td>\n",
       "      <td>0.938104</td>\n",
       "      <td>0.870000</td>\n",
       "    </tr>\n",
       "    <tr>\n",
       "      <th>3</th>\n",
       "      <td>LR</td>\n",
       "      <td>0.952611</td>\n",
       "      <td>0.940594</td>\n",
       "      <td>0.956480</td>\n",
       "      <td>0.951456</td>\n",
       "      <td>0.951644</td>\n",
       "      <td>0.931373</td>\n",
       "    </tr>\n",
       "    <tr>\n",
       "      <th>4</th>\n",
       "      <td>RF</td>\n",
       "      <td>0.970986</td>\n",
       "      <td>1.000000</td>\n",
       "      <td>0.970986</td>\n",
       "      <td>0.982143</td>\n",
       "      <td>0.970986</td>\n",
       "      <td>0.982143</td>\n",
       "    </tr>\n",
       "    <tr>\n",
       "      <th>5</th>\n",
       "      <td>ET</td>\n",
       "      <td>0.972921</td>\n",
       "      <td>0.966102</td>\n",
       "      <td>0.977756</td>\n",
       "      <td>0.967480</td>\n",
       "      <td>0.973888</td>\n",
       "      <td>0.966387</td>\n",
       "    </tr>\n",
       "    <tr>\n",
       "      <th>6</th>\n",
       "      <td>GB</td>\n",
       "      <td>0.955513</td>\n",
       "      <td>0.925926</td>\n",
       "      <td>0.950677</td>\n",
       "      <td>0.939394</td>\n",
       "      <td>0.951644</td>\n",
       "      <td>0.948980</td>\n",
       "    </tr>\n",
       "    <tr>\n",
       "      <th>7</th>\n",
       "      <td>NB</td>\n",
       "      <td>0.956480</td>\n",
       "      <td>1.000000</td>\n",
       "      <td>0.974855</td>\n",
       "      <td>1.000000</td>\n",
       "      <td>0.965184</td>\n",
       "      <td>1.000000</td>\n",
       "    </tr>\n",
       "  </tbody>\n",
       "</table>\n",
       "</div>"
      ],
      "text/plain": [
       "  model  Accuracy  precision  Accuracy_3000  precision_3000  Accuracy_5000  \\\n",
       "0   SVM  0.972921   0.974138       0.975822        0.966942       0.973888   \n",
       "1   KNN  0.896518   1.000000       0.906190        1.000000       0.903288   \n",
       "2    DT  0.938104   0.855769       0.940039        0.865385       0.938104   \n",
       "3    LR  0.952611   0.940594       0.956480        0.951456       0.951644   \n",
       "4    RF  0.970986   1.000000       0.970986        0.982143       0.970986   \n",
       "5    ET  0.972921   0.966102       0.977756        0.967480       0.973888   \n",
       "6    GB  0.955513   0.925926       0.950677        0.939394       0.951644   \n",
       "7    NB  0.956480   1.000000       0.974855        1.000000       0.965184   \n",
       "\n",
       "   precision_5000  \n",
       "0        0.966387  \n",
       "1        1.000000  \n",
       "2        0.870000  \n",
       "3        0.931373  \n",
       "4        0.982143  \n",
       "5        0.966387  \n",
       "6        0.948980  \n",
       "7        1.000000  "
      ]
     },
     "execution_count": 89,
     "metadata": {},
     "output_type": "execute_result"
    }
   ],
   "source": [
    "com_df = pd.merge(com_df, pd.DataFrame(reslt, columns=[\"model\", \"Accuracy_5000\", \"precision_5000\"]), on=\"model\")\n",
    "com_df"
   ]
  },
  {
   "cell_type": "code",
   "execution_count": 90,
   "metadata": {},
   "outputs": [],
   "source": [
    "tfV = TfidfVectorizer(use_idf=True, max_features=2000)\n",
    "X = tfV.fit_transform(data[\"transformed_text\"]).toarray()\n",
    "Y = data[\"type\"]\n",
    "x_train, x_test, y_train, y_test = train_test_split(X,\n",
    "                                                    Y,\n",
    "                                                    test_size = 0.2,\n",
    "                                                    random_state = 2\n",
    "                                                   )\n",
    "reslt = []\n",
    "for n,mdl in mdls.items():\n",
    "    acc, prec = run_model(mdl, x_train, y_train, x_test, y_test)\n",
    "    reslt.append([n, acc, prec])"
   ]
  },
  {
   "cell_type": "code",
   "execution_count": 91,
   "metadata": {},
   "outputs": [
    {
     "data": {
      "text/html": [
       "<div>\n",
       "<style scoped>\n",
       "    .dataframe tbody tr th:only-of-type {\n",
       "        vertical-align: middle;\n",
       "    }\n",
       "\n",
       "    .dataframe tbody tr th {\n",
       "        vertical-align: top;\n",
       "    }\n",
       "\n",
       "    .dataframe thead th {\n",
       "        text-align: right;\n",
       "    }\n",
       "</style>\n",
       "<table border=\"1\" class=\"dataframe\">\n",
       "  <thead>\n",
       "    <tr style=\"text-align: right;\">\n",
       "      <th></th>\n",
       "      <th>model</th>\n",
       "      <th>Accuracy</th>\n",
       "      <th>precision</th>\n",
       "      <th>Accuracy_3000</th>\n",
       "      <th>precision_3000</th>\n",
       "      <th>Accuracy_5000</th>\n",
       "      <th>precision_5000</th>\n",
       "      <th>Accuracy_2000</th>\n",
       "      <th>precision_2000</th>\n",
       "    </tr>\n",
       "  </thead>\n",
       "  <tbody>\n",
       "    <tr>\n",
       "      <th>0</th>\n",
       "      <td>SVM</td>\n",
       "      <td>0.972921</td>\n",
       "      <td>0.974138</td>\n",
       "      <td>0.975822</td>\n",
       "      <td>0.966942</td>\n",
       "      <td>0.973888</td>\n",
       "      <td>0.966387</td>\n",
       "      <td>0.972921</td>\n",
       "      <td>0.958333</td>\n",
       "    </tr>\n",
       "    <tr>\n",
       "      <th>1</th>\n",
       "      <td>KNN</td>\n",
       "      <td>0.896518</td>\n",
       "      <td>1.000000</td>\n",
       "      <td>0.906190</td>\n",
       "      <td>1.000000</td>\n",
       "      <td>0.903288</td>\n",
       "      <td>1.000000</td>\n",
       "      <td>0.910058</td>\n",
       "      <td>1.000000</td>\n",
       "    </tr>\n",
       "    <tr>\n",
       "      <th>2</th>\n",
       "      <td>DT</td>\n",
       "      <td>0.938104</td>\n",
       "      <td>0.855769</td>\n",
       "      <td>0.940039</td>\n",
       "      <td>0.865385</td>\n",
       "      <td>0.938104</td>\n",
       "      <td>0.870000</td>\n",
       "      <td>0.932302</td>\n",
       "      <td>0.840000</td>\n",
       "    </tr>\n",
       "    <tr>\n",
       "      <th>3</th>\n",
       "      <td>LR</td>\n",
       "      <td>0.952611</td>\n",
       "      <td>0.940594</td>\n",
       "      <td>0.956480</td>\n",
       "      <td>0.951456</td>\n",
       "      <td>0.951644</td>\n",
       "      <td>0.931373</td>\n",
       "      <td>0.957447</td>\n",
       "      <td>0.951923</td>\n",
       "    </tr>\n",
       "    <tr>\n",
       "      <th>4</th>\n",
       "      <td>RF</td>\n",
       "      <td>0.970986</td>\n",
       "      <td>1.000000</td>\n",
       "      <td>0.970986</td>\n",
       "      <td>0.982143</td>\n",
       "      <td>0.970986</td>\n",
       "      <td>0.982143</td>\n",
       "      <td>0.970986</td>\n",
       "      <td>0.965517</td>\n",
       "    </tr>\n",
       "    <tr>\n",
       "      <th>5</th>\n",
       "      <td>ET</td>\n",
       "      <td>0.972921</td>\n",
       "      <td>0.966102</td>\n",
       "      <td>0.977756</td>\n",
       "      <td>0.967480</td>\n",
       "      <td>0.973888</td>\n",
       "      <td>0.966387</td>\n",
       "      <td>0.972921</td>\n",
       "      <td>0.950820</td>\n",
       "    </tr>\n",
       "    <tr>\n",
       "      <th>6</th>\n",
       "      <td>GB</td>\n",
       "      <td>0.955513</td>\n",
       "      <td>0.925926</td>\n",
       "      <td>0.950677</td>\n",
       "      <td>0.939394</td>\n",
       "      <td>0.951644</td>\n",
       "      <td>0.948980</td>\n",
       "      <td>0.951644</td>\n",
       "      <td>0.940000</td>\n",
       "    </tr>\n",
       "    <tr>\n",
       "      <th>7</th>\n",
       "      <td>NB</td>\n",
       "      <td>0.956480</td>\n",
       "      <td>1.000000</td>\n",
       "      <td>0.974855</td>\n",
       "      <td>1.000000</td>\n",
       "      <td>0.965184</td>\n",
       "      <td>1.000000</td>\n",
       "      <td>0.975822</td>\n",
       "      <td>1.000000</td>\n",
       "    </tr>\n",
       "  </tbody>\n",
       "</table>\n",
       "</div>"
      ],
      "text/plain": [
       "  model  Accuracy  precision  Accuracy_3000  precision_3000  Accuracy_5000  \\\n",
       "0   SVM  0.972921   0.974138       0.975822        0.966942       0.973888   \n",
       "1   KNN  0.896518   1.000000       0.906190        1.000000       0.903288   \n",
       "2    DT  0.938104   0.855769       0.940039        0.865385       0.938104   \n",
       "3    LR  0.952611   0.940594       0.956480        0.951456       0.951644   \n",
       "4    RF  0.970986   1.000000       0.970986        0.982143       0.970986   \n",
       "5    ET  0.972921   0.966102       0.977756        0.967480       0.973888   \n",
       "6    GB  0.955513   0.925926       0.950677        0.939394       0.951644   \n",
       "7    NB  0.956480   1.000000       0.974855        1.000000       0.965184   \n",
       "\n",
       "   precision_5000  Accuracy_2000  precision_2000  \n",
       "0        0.966387       0.972921        0.958333  \n",
       "1        1.000000       0.910058        1.000000  \n",
       "2        0.870000       0.932302        0.840000  \n",
       "3        0.931373       0.957447        0.951923  \n",
       "4        0.982143       0.970986        0.965517  \n",
       "5        0.966387       0.972921        0.950820  \n",
       "6        0.948980       0.951644        0.940000  \n",
       "7        1.000000       0.975822        1.000000  "
      ]
     },
     "execution_count": 91,
     "metadata": {},
     "output_type": "execute_result"
    }
   ],
   "source": [
    "com_df = pd.merge(com_df, pd.DataFrame(reslt, columns=[\"model\", \"Accuracy_2000\", \"precision_2000\"]), on=\"model\")\n",
    "com_df"
   ]
  },
  {
   "cell_type": "markdown",
   "metadata": {},
   "source": [
    "### 4.3.2 features scalling"
   ]
  },
  {
   "cell_type": "code",
   "execution_count": 92,
   "metadata": {},
   "outputs": [
    {
     "data": {
      "text/plain": [
       "(5169, 2000)"
      ]
     },
     "execution_count": 92,
     "metadata": {},
     "output_type": "execute_result"
    }
   ],
   "source": [
    "X.shape"
   ]
  },
  {
   "cell_type": "code",
   "execution_count": 93,
   "metadata": {},
   "outputs": [],
   "source": [
    "from sklearn.preprocessing import MinMaxScaler"
   ]
  },
  {
   "cell_type": "code",
   "execution_count": 94,
   "metadata": {},
   "outputs": [],
   "source": [
    "scler = MinMaxScaler()"
   ]
  },
  {
   "cell_type": "code",
   "execution_count": 95,
   "metadata": {},
   "outputs": [],
   "source": [
    "X = scler.fit_transform(X)"
   ]
  },
  {
   "cell_type": "code",
   "execution_count": 96,
   "metadata": {},
   "outputs": [],
   "source": [
    "Y = data[\"type\"]\n",
    "x_train, x_test, y_train, y_test = train_test_split(X,\n",
    "                                                    Y,\n",
    "                                                    test_size = 0.2,\n",
    "                                                    random_state = 2\n",
    "                                                   )"
   ]
  },
  {
   "cell_type": "code",
   "execution_count": 97,
   "metadata": {},
   "outputs": [],
   "source": [
    "reslt = []\n",
    "for n,mdl in mdls.items():\n",
    "    acc, prec = run_model(mdl, x_train, y_train, x_test, y_test)\n",
    "    reslt.append([n, acc, prec])"
   ]
  },
  {
   "cell_type": "code",
   "execution_count": 98,
   "metadata": {},
   "outputs": [
    {
     "data": {
      "text/html": [
       "<div>\n",
       "<style scoped>\n",
       "    .dataframe tbody tr th:only-of-type {\n",
       "        vertical-align: middle;\n",
       "    }\n",
       "\n",
       "    .dataframe tbody tr th {\n",
       "        vertical-align: top;\n",
       "    }\n",
       "\n",
       "    .dataframe thead th {\n",
       "        text-align: right;\n",
       "    }\n",
       "</style>\n",
       "<table border=\"1\" class=\"dataframe\">\n",
       "  <thead>\n",
       "    <tr style=\"text-align: right;\">\n",
       "      <th></th>\n",
       "      <th>model</th>\n",
       "      <th>Accuracy</th>\n",
       "      <th>precision</th>\n",
       "      <th>Accuracy_3000</th>\n",
       "      <th>precision_3000</th>\n",
       "      <th>Accuracy_5000</th>\n",
       "      <th>precision_5000</th>\n",
       "      <th>Accuracy_2000</th>\n",
       "      <th>precision_2000</th>\n",
       "      <th>Accuracy_scalling</th>\n",
       "      <th>precision_scalling</th>\n",
       "    </tr>\n",
       "  </thead>\n",
       "  <tbody>\n",
       "    <tr>\n",
       "      <th>0</th>\n",
       "      <td>SVM</td>\n",
       "      <td>0.972921</td>\n",
       "      <td>0.974138</td>\n",
       "      <td>0.975822</td>\n",
       "      <td>0.966942</td>\n",
       "      <td>0.973888</td>\n",
       "      <td>0.966387</td>\n",
       "      <td>0.972921</td>\n",
       "      <td>0.958333</td>\n",
       "      <td>0.970986</td>\n",
       "      <td>0.957627</td>\n",
       "    </tr>\n",
       "    <tr>\n",
       "      <th>1</th>\n",
       "      <td>KNN</td>\n",
       "      <td>0.896518</td>\n",
       "      <td>1.000000</td>\n",
       "      <td>0.906190</td>\n",
       "      <td>1.000000</td>\n",
       "      <td>0.903288</td>\n",
       "      <td>1.000000</td>\n",
       "      <td>0.910058</td>\n",
       "      <td>1.000000</td>\n",
       "      <td>0.913926</td>\n",
       "      <td>1.000000</td>\n",
       "    </tr>\n",
       "    <tr>\n",
       "      <th>2</th>\n",
       "      <td>DT</td>\n",
       "      <td>0.938104</td>\n",
       "      <td>0.855769</td>\n",
       "      <td>0.940039</td>\n",
       "      <td>0.865385</td>\n",
       "      <td>0.938104</td>\n",
       "      <td>0.870000</td>\n",
       "      <td>0.932302</td>\n",
       "      <td>0.840000</td>\n",
       "      <td>0.932302</td>\n",
       "      <td>0.846939</td>\n",
       "    </tr>\n",
       "    <tr>\n",
       "      <th>3</th>\n",
       "      <td>LR</td>\n",
       "      <td>0.952611</td>\n",
       "      <td>0.940594</td>\n",
       "      <td>0.956480</td>\n",
       "      <td>0.951456</td>\n",
       "      <td>0.951644</td>\n",
       "      <td>0.931373</td>\n",
       "      <td>0.957447</td>\n",
       "      <td>0.951923</td>\n",
       "      <td>0.969052</td>\n",
       "      <td>0.964912</td>\n",
       "    </tr>\n",
       "    <tr>\n",
       "      <th>4</th>\n",
       "      <td>RF</td>\n",
       "      <td>0.970986</td>\n",
       "      <td>1.000000</td>\n",
       "      <td>0.970986</td>\n",
       "      <td>0.982143</td>\n",
       "      <td>0.970986</td>\n",
       "      <td>0.982143</td>\n",
       "      <td>0.970986</td>\n",
       "      <td>0.965517</td>\n",
       "      <td>0.970986</td>\n",
       "      <td>0.965517</td>\n",
       "    </tr>\n",
       "    <tr>\n",
       "      <th>5</th>\n",
       "      <td>ET</td>\n",
       "      <td>0.972921</td>\n",
       "      <td>0.966102</td>\n",
       "      <td>0.977756</td>\n",
       "      <td>0.967480</td>\n",
       "      <td>0.973888</td>\n",
       "      <td>0.966387</td>\n",
       "      <td>0.972921</td>\n",
       "      <td>0.950820</td>\n",
       "      <td>0.972921</td>\n",
       "      <td>0.950820</td>\n",
       "    </tr>\n",
       "    <tr>\n",
       "      <th>6</th>\n",
       "      <td>GB</td>\n",
       "      <td>0.955513</td>\n",
       "      <td>0.925926</td>\n",
       "      <td>0.950677</td>\n",
       "      <td>0.939394</td>\n",
       "      <td>0.951644</td>\n",
       "      <td>0.948980</td>\n",
       "      <td>0.951644</td>\n",
       "      <td>0.940000</td>\n",
       "      <td>0.951644</td>\n",
       "      <td>0.940000</td>\n",
       "    </tr>\n",
       "    <tr>\n",
       "      <th>7</th>\n",
       "      <td>NB</td>\n",
       "      <td>0.956480</td>\n",
       "      <td>1.000000</td>\n",
       "      <td>0.974855</td>\n",
       "      <td>1.000000</td>\n",
       "      <td>0.965184</td>\n",
       "      <td>1.000000</td>\n",
       "      <td>0.975822</td>\n",
       "      <td>1.000000</td>\n",
       "      <td>0.976789</td>\n",
       "      <td>0.945312</td>\n",
       "    </tr>\n",
       "  </tbody>\n",
       "</table>\n",
       "</div>"
      ],
      "text/plain": [
       "  model  Accuracy  precision  Accuracy_3000  precision_3000  Accuracy_5000  \\\n",
       "0   SVM  0.972921   0.974138       0.975822        0.966942       0.973888   \n",
       "1   KNN  0.896518   1.000000       0.906190        1.000000       0.903288   \n",
       "2    DT  0.938104   0.855769       0.940039        0.865385       0.938104   \n",
       "3    LR  0.952611   0.940594       0.956480        0.951456       0.951644   \n",
       "4    RF  0.970986   1.000000       0.970986        0.982143       0.970986   \n",
       "5    ET  0.972921   0.966102       0.977756        0.967480       0.973888   \n",
       "6    GB  0.955513   0.925926       0.950677        0.939394       0.951644   \n",
       "7    NB  0.956480   1.000000       0.974855        1.000000       0.965184   \n",
       "\n",
       "   precision_5000  Accuracy_2000  precision_2000  Accuracy_scalling  \\\n",
       "0        0.966387       0.972921        0.958333           0.970986   \n",
       "1        1.000000       0.910058        1.000000           0.913926   \n",
       "2        0.870000       0.932302        0.840000           0.932302   \n",
       "3        0.931373       0.957447        0.951923           0.969052   \n",
       "4        0.982143       0.970986        0.965517           0.970986   \n",
       "5        0.966387       0.972921        0.950820           0.972921   \n",
       "6        0.948980       0.951644        0.940000           0.951644   \n",
       "7        1.000000       0.975822        1.000000           0.976789   \n",
       "\n",
       "   precision_scalling  \n",
       "0            0.957627  \n",
       "1            1.000000  \n",
       "2            0.846939  \n",
       "3            0.964912  \n",
       "4            0.965517  \n",
       "5            0.950820  \n",
       "6            0.940000  \n",
       "7            0.945312  "
      ]
     },
     "execution_count": 98,
     "metadata": {},
     "output_type": "execute_result"
    }
   ],
   "source": [
    "com_df = pd.merge(com_df, pd.DataFrame(reslt, columns=[\"model\", \"Accuracy_scalling\", \"precision_scalling\"]), on=\"model\")\n",
    "com_df"
   ]
  },
  {
   "cell_type": "markdown",
   "metadata": {},
   "source": [
    "### 4.3.3 voting classifier"
   ]
  },
  {
   "cell_type": "code",
   "execution_count": 99,
   "metadata": {},
   "outputs": [],
   "source": [
    "from sklearn.ensemble import VotingClassifier"
   ]
  },
  {
   "cell_type": "code",
   "execution_count": 100,
   "metadata": {},
   "outputs": [],
   "source": [
    "knn = KNeighborsClassifier()\n",
    "rfc = RandomForestClassifier(n_estimators=50, random_state=2)\n",
    "mnb = MultinomialNB()"
   ]
  },
  {
   "cell_type": "code",
   "execution_count": 101,
   "metadata": {},
   "outputs": [],
   "source": [
    "vot = VotingClassifier(estimators=[('KNN',knn), ('RF',rfc), ('NB',mnb)], voting='soft')"
   ]
  },
  {
   "cell_type": "code",
   "execution_count": 102,
   "metadata": {},
   "outputs": [],
   "source": [
    "tfV = TfidfVectorizer(use_idf=True, max_features=3000)\n",
    "X = tfV.fit_transform(data[\"transformed_text\"]).toarray()\n",
    "Y = data[\"type\"]\n",
    "x_train, x_test, y_train, y_test = train_test_split(X,\n",
    "                                                    Y,\n",
    "                                                    test_size = 0.2,\n",
    "                                                    random_state = 2\n",
    "                                                   )"
   ]
  },
  {
   "cell_type": "code",
   "execution_count": 103,
   "metadata": {},
   "outputs": [
    {
     "data": {
      "text/plain": [
       "VotingClassifier(estimators=[('KNN',\n",
       "                              KNeighborsClassifier(algorithm='auto',\n",
       "                                                   leaf_size=30,\n",
       "                                                   metric='minkowski',\n",
       "                                                   metric_params=None,\n",
       "                                                   n_jobs=None, n_neighbors=5,\n",
       "                                                   p=2, weights='uniform')),\n",
       "                             ('RF',\n",
       "                              RandomForestClassifier(bootstrap=True,\n",
       "                                                     class_weight=None,\n",
       "                                                     criterion='gini',\n",
       "                                                     max_depth=None,\n",
       "                                                     max_features='auto',\n",
       "                                                     max_leaf_nodes=None,\n",
       "                                                     min_impurity_decrease=0.0,\n",
       "                                                     min_impurity_split=None,\n",
       "                                                     min_samples_leaf=1,\n",
       "                                                     min_samples_split=2,\n",
       "                                                     min_weight_fraction_leaf=0.0,\n",
       "                                                     n_estimators=50,\n",
       "                                                     n_jobs=None,\n",
       "                                                     oob_score=False,\n",
       "                                                     random_state=2, verbose=0,\n",
       "                                                     warm_start=False)),\n",
       "                             ('NB',\n",
       "                              MultinomialNB(alpha=1.0, class_prior=None,\n",
       "                                            fit_prior=True))],\n",
       "                 flatten_transform=True, n_jobs=None, voting='soft',\n",
       "                 weights=None)"
      ]
     },
     "execution_count": 103,
     "metadata": {},
     "output_type": "execute_result"
    }
   ],
   "source": [
    "vot.fit(x_train,y_train)"
   ]
  },
  {
   "cell_type": "code",
   "execution_count": 104,
   "metadata": {},
   "outputs": [
    {
     "name": "stdout",
     "output_type": "stream",
     "text": [
      "Accrucy 0.9555125725338491\n",
      "Precision 1.0\n"
     ]
    }
   ],
   "source": [
    "pred = vot.predict(x_test)\n",
    "print(\"Accrucy {0}\\nPrecision {1}\".format(accuracy_score(y_test, pred), precision_score(y_test, pred)))"
   ]
  },
  {
   "cell_type": "markdown",
   "metadata": {},
   "source": [
    "## 4.4 Save model"
   ]
  },
  {
   "cell_type": "code",
   "execution_count": 105,
   "metadata": {},
   "outputs": [],
   "source": [
    "import pickle"
   ]
  },
  {
   "cell_type": "markdown",
   "metadata": {},
   "source": [
    "We choose TfidfVectorizer with max_features = 2000 and the naive bayes model\n",
    "\n",
    "tfV = TfidfVectorizer(use_idf=True, max_features=2000)\n",
    "\n",
    "M_NB = MultinomialNB()"
   ]
  },
  {
   "cell_type": "code",
   "execution_count": 264,
   "metadata": {},
   "outputs": [],
   "source": [
    "pickle.dump(tfV, open('vect.pkl','wb'))\n",
    "pickle.dump(M_NB, open('model.pkl','wb'))"
   ]
  },
  {
   "cell_type": "code",
   "execution_count": null,
   "metadata": {},
   "outputs": [],
   "source": []
  },
  {
   "cell_type": "code",
   "execution_count": null,
   "metadata": {},
   "outputs": [],
   "source": []
  }
 ],
 "metadata": {
  "kernelspec": {
   "display_name": "Python 3",
   "language": "python",
   "name": "python3"
  },
  "language_info": {
   "codemirror_mode": {
    "name": "ipython",
    "version": 3
   },
   "file_extension": ".py",
   "mimetype": "text/x-python",
   "name": "python",
   "nbconvert_exporter": "python",
   "pygments_lexer": "ipython3",
   "version": "3.7.3"
  }
 },
 "nbformat": 4,
 "nbformat_minor": 2
}
